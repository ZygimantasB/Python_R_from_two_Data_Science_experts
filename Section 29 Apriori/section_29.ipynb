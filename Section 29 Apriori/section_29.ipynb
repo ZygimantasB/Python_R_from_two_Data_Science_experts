{
 "cells": [
  {
   "cell_type": "code",
   "id": "initial_id",
   "metadata": {
    "collapsed": true,
    "ExecuteTime": {
     "end_time": "2025-01-01T17:04:11.180963Z",
     "start_time": "2025-01-01T17:04:11.175741Z"
    }
   },
   "source": [
    "import numpy as np\n",
    "import polars as pl\n",
    "import polars.selectors as cs\n",
    "import matplotlib.pyplot as plt\n",
    "import seaborn as sns\n",
    "import plotly.express as px\n",
    "import plotly.graph_objects as go\n",
    "import great_tables as tg\n",
    "import altair as alt"
   ],
   "outputs": [],
   "execution_count": 50
  },
  {
   "metadata": {
    "ExecuteTime": {
     "end_time": "2025-01-01T17:04:11.217207Z",
     "start_time": "2025-01-01T17:04:11.208861Z"
    }
   },
   "cell_type": "code",
   "source": "df_path = r'../DATASETS/Market_Basket_Optimisation.csv'",
   "id": "5298186bea65fb2a",
   "outputs": [],
   "execution_count": 51
  },
  {
   "metadata": {
    "ExecuteTime": {
     "end_time": "2025-01-01T17:04:11.230341Z",
     "start_time": "2025-01-01T17:04:11.221744Z"
    }
   },
   "cell_type": "code",
   "source": "df = pl.read_csv(df_path)",
   "id": "b4131a2b2cf2a43f",
   "outputs": [],
   "execution_count": 52
  },
  {
   "metadata": {
    "ExecuteTime": {
     "end_time": "2025-01-01T17:04:11.277357Z",
     "start_time": "2025-01-01T17:04:11.269547Z"
    }
   },
   "cell_type": "code",
   "source": "df",
   "id": "cd12b797aea716c1",
   "outputs": [
    {
     "data": {
      "text/plain": [
       "shape: (7_500, 20)\n",
       "┌────────────┬───────────┬───────────┬───────────┬───┬───────────┬───────────┬─────────┬───────────┐\n",
       "│ shrimp     ┆ almonds   ┆ avocado   ┆ vegetable ┆ … ┆ antioxyda ┆ frozen    ┆ spinach ┆ olive oil │\n",
       "│ ---        ┆ ---       ┆ ---       ┆ s mix     ┆   ┆ nt juice  ┆ smoothie  ┆ ---     ┆ ---       │\n",
       "│ str        ┆ str       ┆ str       ┆ ---       ┆   ┆ ---       ┆ ---       ┆ str     ┆ str       │\n",
       "│            ┆           ┆           ┆ str       ┆   ┆ str       ┆ str       ┆         ┆           │\n",
       "╞════════════╪═══════════╪═══════════╪═══════════╪═══╪═══════════╪═══════════╪═════════╪═══════════╡\n",
       "│ burgers    ┆ meatballs ┆ eggs      ┆ null      ┆ … ┆ null      ┆ null      ┆ null    ┆ null      │\n",
       "│ chutney    ┆ null      ┆ null      ┆ null      ┆ … ┆ null      ┆ null      ┆ null    ┆ null      │\n",
       "│ turkey     ┆ avocado   ┆ null      ┆ null      ┆ … ┆ null      ┆ null      ┆ null    ┆ null      │\n",
       "│ mineral    ┆ milk      ┆ energy    ┆ whole     ┆ … ┆ null      ┆ null      ┆ null    ┆ null      │\n",
       "│ water      ┆           ┆ bar       ┆ wheat     ┆   ┆           ┆           ┆         ┆           │\n",
       "│            ┆           ┆           ┆ rice      ┆   ┆           ┆           ┆         ┆           │\n",
       "│ low fat    ┆ null      ┆ null      ┆ null      ┆ … ┆ null      ┆ null      ┆ null    ┆ null      │\n",
       "│ yogurt     ┆           ┆           ┆           ┆   ┆           ┆           ┆         ┆           │\n",
       "│ …          ┆ …         ┆ …         ┆ …         ┆ … ┆ …         ┆ …         ┆ …       ┆ …         │\n",
       "│ butter     ┆ light     ┆ fresh     ┆ null      ┆ … ┆ null      ┆ null      ┆ null    ┆ null      │\n",
       "│            ┆ mayo      ┆ bread     ┆           ┆   ┆           ┆           ┆         ┆           │\n",
       "│ burgers    ┆ frozen    ┆ eggs      ┆ french    ┆ … ┆ null      ┆ null      ┆ null    ┆ null      │\n",
       "│            ┆ vegetable ┆           ┆ fries     ┆   ┆           ┆           ┆         ┆           │\n",
       "│            ┆ s         ┆           ┆           ┆   ┆           ┆           ┆         ┆           │\n",
       "│ chicken    ┆ null      ┆ null      ┆ null      ┆ … ┆ null      ┆ null      ┆ null    ┆ null      │\n",
       "│ escalope   ┆ green tea ┆ null      ┆ null      ┆ … ┆ null      ┆ null      ┆ null    ┆ null      │\n",
       "│ eggs       ┆ frozen    ┆ yogurt    ┆ low fat   ┆ … ┆ null      ┆ null      ┆ null    ┆ null      │\n",
       "│            ┆ smoothie  ┆ cake      ┆ yogurt    ┆   ┆           ┆           ┆         ┆           │\n",
       "└────────────┴───────────┴───────────┴───────────┴───┴───────────┴───────────┴─────────┴───────────┘"
      ],
      "text/html": [
       "<div><style>\n",
       ".dataframe > thead > tr,\n",
       ".dataframe > tbody > tr {\n",
       "  text-align: right;\n",
       "  white-space: pre-wrap;\n",
       "}\n",
       "</style>\n",
       "<small>shape: (7_500, 20)</small><table border=\"1\" class=\"dataframe\"><thead><tr><th>shrimp</th><th>almonds</th><th>avocado</th><th>vegetables mix</th><th>green grapes</th><th>whole weat flour</th><th>yams</th><th>cottage cheese</th><th>energy drink</th><th>tomato juice</th><th>low fat yogurt</th><th>green tea</th><th>honey</th><th>salad</th><th>mineral water</th><th>salmon</th><th>antioxydant juice</th><th>frozen smoothie</th><th>spinach</th><th>olive oil</th></tr><tr><td>str</td><td>str</td><td>str</td><td>str</td><td>str</td><td>str</td><td>str</td><td>str</td><td>str</td><td>str</td><td>str</td><td>str</td><td>str</td><td>str</td><td>str</td><td>str</td><td>str</td><td>str</td><td>str</td><td>str</td></tr></thead><tbody><tr><td>&quot;burgers&quot;</td><td>&quot;meatballs&quot;</td><td>&quot;eggs&quot;</td><td>null</td><td>null</td><td>null</td><td>null</td><td>null</td><td>null</td><td>null</td><td>null</td><td>null</td><td>null</td><td>null</td><td>null</td><td>null</td><td>null</td><td>null</td><td>null</td><td>null</td></tr><tr><td>&quot;chutney&quot;</td><td>null</td><td>null</td><td>null</td><td>null</td><td>null</td><td>null</td><td>null</td><td>null</td><td>null</td><td>null</td><td>null</td><td>null</td><td>null</td><td>null</td><td>null</td><td>null</td><td>null</td><td>null</td><td>null</td></tr><tr><td>&quot;turkey&quot;</td><td>&quot;avocado&quot;</td><td>null</td><td>null</td><td>null</td><td>null</td><td>null</td><td>null</td><td>null</td><td>null</td><td>null</td><td>null</td><td>null</td><td>null</td><td>null</td><td>null</td><td>null</td><td>null</td><td>null</td><td>null</td></tr><tr><td>&quot;mineral water&quot;</td><td>&quot;milk&quot;</td><td>&quot;energy bar&quot;</td><td>&quot;whole wheat rice&quot;</td><td>&quot;green tea&quot;</td><td>null</td><td>null</td><td>null</td><td>null</td><td>null</td><td>null</td><td>null</td><td>null</td><td>null</td><td>null</td><td>null</td><td>null</td><td>null</td><td>null</td><td>null</td></tr><tr><td>&quot;low fat yogurt&quot;</td><td>null</td><td>null</td><td>null</td><td>null</td><td>null</td><td>null</td><td>null</td><td>null</td><td>null</td><td>null</td><td>null</td><td>null</td><td>null</td><td>null</td><td>null</td><td>null</td><td>null</td><td>null</td><td>null</td></tr><tr><td>&hellip;</td><td>&hellip;</td><td>&hellip;</td><td>&hellip;</td><td>&hellip;</td><td>&hellip;</td><td>&hellip;</td><td>&hellip;</td><td>&hellip;</td><td>&hellip;</td><td>&hellip;</td><td>&hellip;</td><td>&hellip;</td><td>&hellip;</td><td>&hellip;</td><td>&hellip;</td><td>&hellip;</td><td>&hellip;</td><td>&hellip;</td><td>&hellip;</td></tr><tr><td>&quot;butter&quot;</td><td>&quot;light mayo&quot;</td><td>&quot;fresh bread&quot;</td><td>null</td><td>null</td><td>null</td><td>null</td><td>null</td><td>null</td><td>null</td><td>null</td><td>null</td><td>null</td><td>null</td><td>null</td><td>null</td><td>null</td><td>null</td><td>null</td><td>null</td></tr><tr><td>&quot;burgers&quot;</td><td>&quot;frozen vegetables&quot;</td><td>&quot;eggs&quot;</td><td>&quot;french fries&quot;</td><td>&quot;magazines&quot;</td><td>&quot;green tea&quot;</td><td>null</td><td>null</td><td>null</td><td>null</td><td>null</td><td>null</td><td>null</td><td>null</td><td>null</td><td>null</td><td>null</td><td>null</td><td>null</td><td>null</td></tr><tr><td>&quot;chicken&quot;</td><td>null</td><td>null</td><td>null</td><td>null</td><td>null</td><td>null</td><td>null</td><td>null</td><td>null</td><td>null</td><td>null</td><td>null</td><td>null</td><td>null</td><td>null</td><td>null</td><td>null</td><td>null</td><td>null</td></tr><tr><td>&quot;escalope&quot;</td><td>&quot;green tea&quot;</td><td>null</td><td>null</td><td>null</td><td>null</td><td>null</td><td>null</td><td>null</td><td>null</td><td>null</td><td>null</td><td>null</td><td>null</td><td>null</td><td>null</td><td>null</td><td>null</td><td>null</td><td>null</td></tr><tr><td>&quot;eggs&quot;</td><td>&quot;frozen smoothie&quot;</td><td>&quot;yogurt cake&quot;</td><td>&quot;low fat yogurt&quot;</td><td>null</td><td>null</td><td>null</td><td>null</td><td>null</td><td>null</td><td>null</td><td>null</td><td>null</td><td>null</td><td>null</td><td>null</td><td>null</td><td>null</td><td>null</td><td>null</td></tr></tbody></table></div>"
      ]
     },
     "execution_count": 53,
     "metadata": {},
     "output_type": "execute_result"
    }
   ],
   "execution_count": 53
  },
  {
   "metadata": {
    "ExecuteTime": {
     "end_time": "2025-01-01T17:04:27.955025Z",
     "start_time": "2025-01-01T17:04:11.318620Z"
    }
   },
   "cell_type": "code",
   "source": [
    "transactions = []\n",
    "for i in range(0, 7501):\n",
    "    transactions.append([str(df[i]) for j in range(0, 20)])"
   ],
   "id": "768b193f7955355a",
   "outputs": [],
   "execution_count": 54
  },
  {
   "metadata": {
    "ExecuteTime": {
     "end_time": "2025-01-01T17:04:27.985702Z",
     "start_time": "2025-01-01T17:04:27.982482Z"
    }
   },
   "cell_type": "code",
   "source": "from apyori import apriori",
   "id": "918635396da6a8bc",
   "outputs": [],
   "execution_count": 55
  },
  {
   "metadata": {
    "ExecuteTime": {
     "end_time": "2025-01-01T17:04:28.048242Z",
     "start_time": "2025-01-01T17:04:28.044501Z"
    }
   },
   "cell_type": "code",
   "source": [
    "rules = apriori(\n",
    "    transactions=transactions,\n",
    "    min_support=0.003,\n",
    "    min_confidence=0.2,\n",
    "    min_lift=3,\n",
    "    min_length=2,\n",
    "    max_length=2\n",
    ")"
   ],
   "id": "582ab19ac431eb62",
   "outputs": [],
   "execution_count": 56
  },
  {
   "metadata": {
    "ExecuteTime": {
     "end_time": "2025-01-01T17:04:28.213331Z",
     "start_time": "2025-01-01T17:04:28.102065Z"
    }
   },
   "cell_type": "code",
   "source": "results = list(rules)",
   "id": "feecb88d14c2691",
   "outputs": [],
   "execution_count": 57
  },
  {
   "metadata": {
    "ExecuteTime": {
     "end_time": "2025-01-01T17:04:28.224662Z",
     "start_time": "2025-01-01T17:04:28.221192Z"
    }
   },
   "cell_type": "code",
   "source": "results",
   "id": "8949047baaf80f55",
   "outputs": [
    {
     "data": {
      "text/plain": [
       "[]"
      ]
     },
     "execution_count": 58,
     "metadata": {},
     "output_type": "execute_result"
    }
   ],
   "execution_count": 58
  },
  {
   "metadata": {
    "ExecuteTime": {
     "end_time": "2025-01-01T17:04:28.234336Z",
     "start_time": "2025-01-01T17:04:28.232205Z"
    }
   },
   "cell_type": "code",
   "source": "",
   "id": "9d84284266270064",
   "outputs": [],
   "execution_count": null
  }
 ],
 "metadata": {
  "kernelspec": {
   "display_name": "Python 3",
   "language": "python",
   "name": "python3"
  },
  "language_info": {
   "codemirror_mode": {
    "name": "ipython",
    "version": 2
   },
   "file_extension": ".py",
   "mimetype": "text/x-python",
   "name": "python",
   "nbconvert_exporter": "python",
   "pygments_lexer": "ipython2",
   "version": "2.7.6"
  }
 },
 "nbformat": 4,
 "nbformat_minor": 5
}
