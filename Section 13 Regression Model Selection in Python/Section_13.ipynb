{
 "cells": [
  {
   "cell_type": "code",
   "id": "initial_id",
   "metadata": {
    "collapsed": true,
    "ExecuteTime": {
     "end_time": "2024-12-28T13:10:22.295628Z",
     "start_time": "2024-12-28T13:10:22.292081Z"
    }
   },
   "source": [
    "import numpy as np\n",
    "import polars as pl\n",
    "import polars.selectors as cs\n",
    "import matplotlib.pyplot as plt\n",
    "import seaborn as sns\n",
    "import plotly.express as px\n",
    "import plotly.graph_objects as go\n",
    "import great_tables as tg\n",
    "import altair as alt"
   ],
   "outputs": [],
   "execution_count": 14
  },
  {
   "metadata": {
    "ExecuteTime": {
     "end_time": "2024-12-28T13:10:30.778471Z",
     "start_time": "2024-12-28T13:10:30.775733Z"
    }
   },
   "cell_type": "code",
   "source": "df_path = r'../DATASETS/Data.csv'",
   "id": "63f28bdf3ec07076",
   "outputs": [],
   "execution_count": 17
  },
  {
   "metadata": {
    "ExecuteTime": {
     "end_time": "2024-12-28T13:10:31.399710Z",
     "start_time": "2024-12-28T13:10:31.396417Z"
    }
   },
   "cell_type": "code",
   "source": "df = pl.read_csv(df_path)",
   "id": "7f92d5c70b09dda1",
   "outputs": [],
   "execution_count": 18
  },
  {
   "metadata": {
    "ExecuteTime": {
     "end_time": "2024-12-28T13:10:32.394987Z",
     "start_time": "2024-12-28T13:10:32.390544Z"
    }
   },
   "cell_type": "code",
   "source": "df",
   "id": "5ada0f59568de061",
   "outputs": [
    {
     "data": {
      "text/plain": [
       "shape: (10, 4)\n",
       "┌─────────┬──────┬────────┬───────────┐\n",
       "│ Country ┆ Age  ┆ Salary ┆ Purchased │\n",
       "│ ---     ┆ ---  ┆ ---    ┆ ---       │\n",
       "│ str     ┆ i64  ┆ i64    ┆ str       │\n",
       "╞═════════╪══════╪════════╪═══════════╡\n",
       "│ France  ┆ 44   ┆ 72000  ┆ No        │\n",
       "│ Spain   ┆ 27   ┆ 48000  ┆ Yes       │\n",
       "│ Germany ┆ 30   ┆ 54000  ┆ No        │\n",
       "│ Spain   ┆ 38   ┆ 61000  ┆ No        │\n",
       "│ Germany ┆ 40   ┆ null   ┆ Yes       │\n",
       "│ France  ┆ 35   ┆ 58000  ┆ Yes       │\n",
       "│ Spain   ┆ null ┆ 52000  ┆ No        │\n",
       "│ France  ┆ 48   ┆ 79000  ┆ Yes       │\n",
       "│ Germany ┆ 50   ┆ 83000  ┆ No        │\n",
       "│ France  ┆ 37   ┆ 67000  ┆ Yes       │\n",
       "└─────────┴──────┴────────┴───────────┘"
      ],
      "text/html": [
       "<div><style>\n",
       ".dataframe > thead > tr,\n",
       ".dataframe > tbody > tr {\n",
       "  text-align: right;\n",
       "  white-space: pre-wrap;\n",
       "}\n",
       "</style>\n",
       "<small>shape: (10, 4)</small><table border=\"1\" class=\"dataframe\"><thead><tr><th>Country</th><th>Age</th><th>Salary</th><th>Purchased</th></tr><tr><td>str</td><td>i64</td><td>i64</td><td>str</td></tr></thead><tbody><tr><td>&quot;France&quot;</td><td>44</td><td>72000</td><td>&quot;No&quot;</td></tr><tr><td>&quot;Spain&quot;</td><td>27</td><td>48000</td><td>&quot;Yes&quot;</td></tr><tr><td>&quot;Germany&quot;</td><td>30</td><td>54000</td><td>&quot;No&quot;</td></tr><tr><td>&quot;Spain&quot;</td><td>38</td><td>61000</td><td>&quot;No&quot;</td></tr><tr><td>&quot;Germany&quot;</td><td>40</td><td>null</td><td>&quot;Yes&quot;</td></tr><tr><td>&quot;France&quot;</td><td>35</td><td>58000</td><td>&quot;Yes&quot;</td></tr><tr><td>&quot;Spain&quot;</td><td>null</td><td>52000</td><td>&quot;No&quot;</td></tr><tr><td>&quot;France&quot;</td><td>48</td><td>79000</td><td>&quot;Yes&quot;</td></tr><tr><td>&quot;Germany&quot;</td><td>50</td><td>83000</td><td>&quot;No&quot;</td></tr><tr><td>&quot;France&quot;</td><td>37</td><td>67000</td><td>&quot;Yes&quot;</td></tr></tbody></table></div>"
      ]
     },
     "execution_count": 19,
     "metadata": {},
     "output_type": "execute_result"
    }
   ],
   "execution_count": 19
  },
  {
   "metadata": {},
   "cell_type": "code",
   "outputs": [],
   "execution_count": null,
   "source": "",
   "id": "93baa6059d77f991"
  }
 ],
 "metadata": {
  "kernelspec": {
   "display_name": "Python 3",
   "language": "python",
   "name": "python3"
  },
  "language_info": {
   "codemirror_mode": {
    "name": "ipython",
    "version": 2
   },
   "file_extension": ".py",
   "mimetype": "text/x-python",
   "name": "python",
   "nbconvert_exporter": "python",
   "pygments_lexer": "ipython2",
   "version": "2.7.6"
  }
 },
 "nbformat": 4,
 "nbformat_minor": 5
}
