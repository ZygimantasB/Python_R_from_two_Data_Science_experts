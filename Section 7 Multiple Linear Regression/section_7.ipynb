{
 "cells": [
  {
   "cell_type": "code",
   "id": "initial_id",
   "metadata": {
    "collapsed": true,
    "ExecuteTime": {
     "end_time": "2024-12-28T08:14:57.382228Z",
     "start_time": "2024-12-28T08:14:57.378641Z"
    }
   },
   "source": [
    "import numpy as np\n",
    "import polars as pl\n",
    "import polars.selectors as cs\n",
    "import matplotlib.pyplot as plt\n",
    "import seaborn as sns\n",
    "import plotly.express as px\n",
    "import plotly.graph_objects as go\n",
    "import great_tables as tg\n",
    "import altair as alt"
   ],
   "outputs": [],
   "execution_count": 4
  },
  {
   "metadata": {
    "ExecuteTime": {
     "end_time": "2024-12-28T08:18:59.001077Z",
     "start_time": "2024-12-28T08:18:58.998815Z"
    }
   },
   "cell_type": "code",
   "source": "dataset_path = r'50_Startups.csv'",
   "id": "18e85aae5a319260",
   "outputs": [],
   "execution_count": 7
  },
  {
   "metadata": {
    "ExecuteTime": {
     "end_time": "2024-12-28T08:19:04.621317Z",
     "start_time": "2024-12-28T08:19:04.378831Z"
    }
   },
   "cell_type": "code",
   "source": "dataset = pl.read_csv(dataset_path)",
   "id": "9b5e3bf3408b61b1",
   "outputs": [],
   "execution_count": 8
  },
  {
   "metadata": {
    "ExecuteTime": {
     "end_time": "2024-12-28T08:19:06.237575Z",
     "start_time": "2024-12-28T08:19:06.215133Z"
    }
   },
   "cell_type": "code",
   "source": "dataset",
   "id": "cba6de9d00a6441d",
   "outputs": [
    {
     "data": {
      "text/plain": [
       "shape: (50, 5)\n",
       "┌───────────┬────────────────┬─────────────────┬────────────┬───────────┐\n",
       "│ R&D Spend ┆ Administration ┆ Marketing Spend ┆ State      ┆ Profit    │\n",
       "│ ---       ┆ ---            ┆ ---             ┆ ---        ┆ ---       │\n",
       "│ f64       ┆ f64            ┆ f64             ┆ str        ┆ f64       │\n",
       "╞═══════════╪════════════════╪═════════════════╪════════════╪═══════════╡\n",
       "│ 165349.2  ┆ 136897.8       ┆ 471784.1        ┆ New York   ┆ 192261.83 │\n",
       "│ 162597.7  ┆ 151377.59      ┆ 443898.53       ┆ California ┆ 191792.06 │\n",
       "│ 153441.51 ┆ 101145.55      ┆ 407934.54       ┆ Florida    ┆ 191050.39 │\n",
       "│ 144372.41 ┆ 118671.85      ┆ 383199.62       ┆ New York   ┆ 182901.99 │\n",
       "│ 142107.34 ┆ 91391.77       ┆ 366168.42       ┆ Florida    ┆ 166187.94 │\n",
       "│ …         ┆ …              ┆ …               ┆ …          ┆ …         │\n",
       "│ 1000.23   ┆ 124153.04      ┆ 1903.93         ┆ New York   ┆ 64926.08  │\n",
       "│ 1315.46   ┆ 115816.21      ┆ 297114.46       ┆ Florida    ┆ 49490.75  │\n",
       "│ 0.0       ┆ 135426.92      ┆ 0.0             ┆ California ┆ 42559.73  │\n",
       "│ 542.05    ┆ 51743.15       ┆ 0.0             ┆ New York   ┆ 35673.41  │\n",
       "│ 0.0       ┆ 116983.8       ┆ 45173.06        ┆ California ┆ 14681.4   │\n",
       "└───────────┴────────────────┴─────────────────┴────────────┴───────────┘"
      ],
      "text/html": [
       "<div><style>\n",
       ".dataframe > thead > tr,\n",
       ".dataframe > tbody > tr {\n",
       "  text-align: right;\n",
       "  white-space: pre-wrap;\n",
       "}\n",
       "</style>\n",
       "<small>shape: (50, 5)</small><table border=\"1\" class=\"dataframe\"><thead><tr><th>R&amp;D Spend</th><th>Administration</th><th>Marketing Spend</th><th>State</th><th>Profit</th></tr><tr><td>f64</td><td>f64</td><td>f64</td><td>str</td><td>f64</td></tr></thead><tbody><tr><td>165349.2</td><td>136897.8</td><td>471784.1</td><td>&quot;New York&quot;</td><td>192261.83</td></tr><tr><td>162597.7</td><td>151377.59</td><td>443898.53</td><td>&quot;California&quot;</td><td>191792.06</td></tr><tr><td>153441.51</td><td>101145.55</td><td>407934.54</td><td>&quot;Florida&quot;</td><td>191050.39</td></tr><tr><td>144372.41</td><td>118671.85</td><td>383199.62</td><td>&quot;New York&quot;</td><td>182901.99</td></tr><tr><td>142107.34</td><td>91391.77</td><td>366168.42</td><td>&quot;Florida&quot;</td><td>166187.94</td></tr><tr><td>&hellip;</td><td>&hellip;</td><td>&hellip;</td><td>&hellip;</td><td>&hellip;</td></tr><tr><td>1000.23</td><td>124153.04</td><td>1903.93</td><td>&quot;New York&quot;</td><td>64926.08</td></tr><tr><td>1315.46</td><td>115816.21</td><td>297114.46</td><td>&quot;Florida&quot;</td><td>49490.75</td></tr><tr><td>0.0</td><td>135426.92</td><td>0.0</td><td>&quot;California&quot;</td><td>42559.73</td></tr><tr><td>542.05</td><td>51743.15</td><td>0.0</td><td>&quot;New York&quot;</td><td>35673.41</td></tr><tr><td>0.0</td><td>116983.8</td><td>45173.06</td><td>&quot;California&quot;</td><td>14681.4</td></tr></tbody></table></div>"
      ]
     },
     "execution_count": 9,
     "metadata": {},
     "output_type": "execute_result"
    }
   ],
   "execution_count": 9
  },
  {
   "metadata": {
    "ExecuteTime": {
     "end_time": "2024-12-28T08:21:26.693896Z",
     "start_time": "2024-12-28T08:21:26.690722Z"
    }
   },
   "cell_type": "code",
   "source": "X = dataset.select(cs.exclude('Profit'))",
   "id": "e352510c9502c6d4",
   "outputs": [],
   "execution_count": 14
  },
  {
   "metadata": {
    "ExecuteTime": {
     "end_time": "2024-12-28T08:21:26.913331Z",
     "start_time": "2024-12-28T08:21:26.910325Z"
    }
   },
   "cell_type": "code",
   "source": "y = dataset.select('Profit').to_series()",
   "id": "c152446ebb61eead",
   "outputs": [],
   "execution_count": 15
  },
  {
   "metadata": {
    "ExecuteTime": {
     "end_time": "2024-12-28T08:23:11.489289Z",
     "start_time": "2024-12-28T08:23:11.156370Z"
    }
   },
   "cell_type": "code",
   "source": [
    "from sklearn.preprocessing import OneHotEncoder\n",
    "from sklearn.compose import ColumnTransformer"
   ],
   "id": "f5c6efbe499fa0d9",
   "outputs": [],
   "execution_count": 19
  },
  {
   "metadata": {
    "ExecuteTime": {
     "end_time": "2024-12-28T08:27:39.727365Z",
     "start_time": "2024-12-28T08:27:39.724337Z"
    }
   },
   "cell_type": "code",
   "source": [
    "column_transformer = ColumnTransformer(\n",
    "    transformers=[('encoder', OneHotEncoder(handle_unknown='ignore', sparse_output=False), ['State'])],\n",
    "    remainder='passthrough'\n",
    ")"
   ],
   "id": "ca55f1f0cfdf7478",
   "outputs": [],
   "execution_count": 26
  },
  {
   "metadata": {
    "ExecuteTime": {
     "end_time": "2024-12-28T08:27:40.238756Z",
     "start_time": "2024-12-28T08:27:40.229923Z"
    }
   },
   "cell_type": "code",
   "source": "X_encoded = column_transformer.fit_transform(X)",
   "id": "dc39e1859981823d",
   "outputs": [],
   "execution_count": 27
  },
  {
   "metadata": {
    "ExecuteTime": {
     "end_time": "2024-12-28T08:28:21.943463Z",
     "start_time": "2024-12-28T08:28:21.940205Z"
    }
   },
   "cell_type": "code",
   "source": "feature_names = column_transformer.get_feature_names_out()",
   "id": "879e8f3345454459",
   "outputs": [],
   "execution_count": 32
  },
  {
   "metadata": {
    "ExecuteTime": {
     "end_time": "2024-12-28T08:29:36.368321Z",
     "start_time": "2024-12-28T08:29:36.365269Z"
    }
   },
   "cell_type": "code",
   "source": "X_encoded = pl.DataFrame(X_encoded, schema=list(feature_names))",
   "id": "f5158577428479b4",
   "outputs": [],
   "execution_count": 36
  },
  {
   "metadata": {
    "ExecuteTime": {
     "end_time": "2024-12-28T08:30:14.629009Z",
     "start_time": "2024-12-28T08:30:14.624506Z"
    }
   },
   "cell_type": "code",
   "source": "X_encoded",
   "id": "d8a9abb0aad13b3c",
   "outputs": [
    {
     "data": {
      "text/plain": [
       "shape: (50, 6)\n",
       "┌────────────────┬────────────────┬────────────────┬───────────────┬───────────────┬───────────────┐\n",
       "│ encoder__State ┆ encoder__State ┆ encoder__State ┆ remainder__R& ┆ remainder__Ad ┆ remainder__Ma │\n",
       "│ _California    ┆ _Florida       ┆ _New York      ┆ D Spend       ┆ ministration  ┆ rketing Spend │\n",
       "│ ---            ┆ ---            ┆ ---            ┆ ---           ┆ ---           ┆ ---           │\n",
       "│ f64            ┆ f64            ┆ f64            ┆ f64           ┆ f64           ┆ f64           │\n",
       "╞════════════════╪════════════════╪════════════════╪═══════════════╪═══════════════╪═══════════════╡\n",
       "│ 0.0            ┆ 0.0            ┆ 1.0            ┆ 165349.2      ┆ 136897.8      ┆ 471784.1      │\n",
       "│ 1.0            ┆ 0.0            ┆ 0.0            ┆ 162597.7      ┆ 151377.59     ┆ 443898.53     │\n",
       "│ 0.0            ┆ 1.0            ┆ 0.0            ┆ 153441.51     ┆ 101145.55     ┆ 407934.54     │\n",
       "│ 0.0            ┆ 0.0            ┆ 1.0            ┆ 144372.41     ┆ 118671.85     ┆ 383199.62     │\n",
       "│ 0.0            ┆ 1.0            ┆ 0.0            ┆ 142107.34     ┆ 91391.77      ┆ 366168.42     │\n",
       "│ …              ┆ …              ┆ …              ┆ …             ┆ …             ┆ …             │\n",
       "│ 0.0            ┆ 0.0            ┆ 1.0            ┆ 1000.23       ┆ 124153.04     ┆ 1903.93       │\n",
       "│ 0.0            ┆ 1.0            ┆ 0.0            ┆ 1315.46       ┆ 115816.21     ┆ 297114.46     │\n",
       "│ 1.0            ┆ 0.0            ┆ 0.0            ┆ 0.0           ┆ 135426.92     ┆ 0.0           │\n",
       "│ 0.0            ┆ 0.0            ┆ 1.0            ┆ 542.05        ┆ 51743.15      ┆ 0.0           │\n",
       "│ 1.0            ┆ 0.0            ┆ 0.0            ┆ 0.0           ┆ 116983.8      ┆ 45173.06      │\n",
       "└────────────────┴────────────────┴────────────────┴───────────────┴───────────────┴───────────────┘"
      ],
      "text/html": [
       "<div><style>\n",
       ".dataframe > thead > tr,\n",
       ".dataframe > tbody > tr {\n",
       "  text-align: right;\n",
       "  white-space: pre-wrap;\n",
       "}\n",
       "</style>\n",
       "<small>shape: (50, 6)</small><table border=\"1\" class=\"dataframe\"><thead><tr><th>encoder__State_California</th><th>encoder__State_Florida</th><th>encoder__State_New York</th><th>remainder__R&amp;D Spend</th><th>remainder__Administration</th><th>remainder__Marketing Spend</th></tr><tr><td>f64</td><td>f64</td><td>f64</td><td>f64</td><td>f64</td><td>f64</td></tr></thead><tbody><tr><td>0.0</td><td>0.0</td><td>1.0</td><td>165349.2</td><td>136897.8</td><td>471784.1</td></tr><tr><td>1.0</td><td>0.0</td><td>0.0</td><td>162597.7</td><td>151377.59</td><td>443898.53</td></tr><tr><td>0.0</td><td>1.0</td><td>0.0</td><td>153441.51</td><td>101145.55</td><td>407934.54</td></tr><tr><td>0.0</td><td>0.0</td><td>1.0</td><td>144372.41</td><td>118671.85</td><td>383199.62</td></tr><tr><td>0.0</td><td>1.0</td><td>0.0</td><td>142107.34</td><td>91391.77</td><td>366168.42</td></tr><tr><td>&hellip;</td><td>&hellip;</td><td>&hellip;</td><td>&hellip;</td><td>&hellip;</td><td>&hellip;</td></tr><tr><td>0.0</td><td>0.0</td><td>1.0</td><td>1000.23</td><td>124153.04</td><td>1903.93</td></tr><tr><td>0.0</td><td>1.0</td><td>0.0</td><td>1315.46</td><td>115816.21</td><td>297114.46</td></tr><tr><td>1.0</td><td>0.0</td><td>0.0</td><td>0.0</td><td>135426.92</td><td>0.0</td></tr><tr><td>0.0</td><td>0.0</td><td>1.0</td><td>542.05</td><td>51743.15</td><td>0.0</td></tr><tr><td>1.0</td><td>0.0</td><td>0.0</td><td>0.0</td><td>116983.8</td><td>45173.06</td></tr></tbody></table></div>"
      ]
     },
     "execution_count": 37,
     "metadata": {},
     "output_type": "execute_result"
    }
   ],
   "execution_count": 37
  },
  {
   "metadata": {
    "ExecuteTime": {
     "end_time": "2024-12-28T08:30:48.106734Z",
     "start_time": "2024-12-28T08:30:48.104170Z"
    }
   },
   "cell_type": "code",
   "source": "from sklearn.model_selection import train_test_split",
   "id": "b623b3384d27049a",
   "outputs": [],
   "execution_count": 38
  },
  {
   "metadata": {
    "ExecuteTime": {
     "end_time": "2024-12-28T08:31:22.987034Z",
     "start_time": "2024-12-28T08:31:22.961986Z"
    }
   },
   "cell_type": "code",
   "source": "X_train, X_test, y_train, y_test = train_test_split(X_encoded, y, test_size=.2, random_state=42)",
   "id": "f05c3fafed2947c4",
   "outputs": [],
   "execution_count": 39
  },
  {
   "metadata": {
    "ExecuteTime": {
     "end_time": "2024-12-28T08:44:22.732870Z",
     "start_time": "2024-12-28T08:44:22.729694Z"
    }
   },
   "cell_type": "code",
   "source": "from sklearn.linear_model import LinearRegression",
   "id": "60cb188bcea6f5c1",
   "outputs": [],
   "execution_count": 44
  },
  {
   "metadata": {
    "ExecuteTime": {
     "end_time": "2024-12-28T08:44:52.425337Z",
     "start_time": "2024-12-28T08:44:52.422123Z"
    }
   },
   "cell_type": "code",
   "source": "linear_model = LinearRegression(n_jobs=-1)",
   "id": "982f5b2fc399c498",
   "outputs": [],
   "execution_count": 45
  },
  {
   "metadata": {
    "ExecuteTime": {
     "end_time": "2024-12-28T08:45:17.519605Z",
     "start_time": "2024-12-28T08:45:17.434606Z"
    }
   },
   "cell_type": "code",
   "source": "linear_model.fit(X_train, y_train)",
   "id": "a8e113d2bdcd88a9",
   "outputs": [
    {
     "data": {
      "text/plain": [
       "LinearRegression(n_jobs=-1)"
      ],
      "text/html": [
       "<style>#sk-container-id-1 {\n",
       "  /* Definition of color scheme common for light and dark mode */\n",
       "  --sklearn-color-text: #000;\n",
       "  --sklearn-color-text-muted: #666;\n",
       "  --sklearn-color-line: gray;\n",
       "  /* Definition of color scheme for unfitted estimators */\n",
       "  --sklearn-color-unfitted-level-0: #fff5e6;\n",
       "  --sklearn-color-unfitted-level-1: #f6e4d2;\n",
       "  --sklearn-color-unfitted-level-2: #ffe0b3;\n",
       "  --sklearn-color-unfitted-level-3: chocolate;\n",
       "  /* Definition of color scheme for fitted estimators */\n",
       "  --sklearn-color-fitted-level-0: #f0f8ff;\n",
       "  --sklearn-color-fitted-level-1: #d4ebff;\n",
       "  --sklearn-color-fitted-level-2: #b3dbfd;\n",
       "  --sklearn-color-fitted-level-3: cornflowerblue;\n",
       "\n",
       "  /* Specific color for light theme */\n",
       "  --sklearn-color-text-on-default-background: var(--sg-text-color, var(--theme-code-foreground, var(--jp-content-font-color1, black)));\n",
       "  --sklearn-color-background: var(--sg-background-color, var(--theme-background, var(--jp-layout-color0, white)));\n",
       "  --sklearn-color-border-box: var(--sg-text-color, var(--theme-code-foreground, var(--jp-content-font-color1, black)));\n",
       "  --sklearn-color-icon: #696969;\n",
       "\n",
       "  @media (prefers-color-scheme: dark) {\n",
       "    /* Redefinition of color scheme for dark theme */\n",
       "    --sklearn-color-text-on-default-background: var(--sg-text-color, var(--theme-code-foreground, var(--jp-content-font-color1, white)));\n",
       "    --sklearn-color-background: var(--sg-background-color, var(--theme-background, var(--jp-layout-color0, #111)));\n",
       "    --sklearn-color-border-box: var(--sg-text-color, var(--theme-code-foreground, var(--jp-content-font-color1, white)));\n",
       "    --sklearn-color-icon: #878787;\n",
       "  }\n",
       "}\n",
       "\n",
       "#sk-container-id-1 {\n",
       "  color: var(--sklearn-color-text);\n",
       "}\n",
       "\n",
       "#sk-container-id-1 pre {\n",
       "  padding: 0;\n",
       "}\n",
       "\n",
       "#sk-container-id-1 input.sk-hidden--visually {\n",
       "  border: 0;\n",
       "  clip: rect(1px 1px 1px 1px);\n",
       "  clip: rect(1px, 1px, 1px, 1px);\n",
       "  height: 1px;\n",
       "  margin: -1px;\n",
       "  overflow: hidden;\n",
       "  padding: 0;\n",
       "  position: absolute;\n",
       "  width: 1px;\n",
       "}\n",
       "\n",
       "#sk-container-id-1 div.sk-dashed-wrapped {\n",
       "  border: 1px dashed var(--sklearn-color-line);\n",
       "  margin: 0 0.4em 0.5em 0.4em;\n",
       "  box-sizing: border-box;\n",
       "  padding-bottom: 0.4em;\n",
       "  background-color: var(--sklearn-color-background);\n",
       "}\n",
       "\n",
       "#sk-container-id-1 div.sk-container {\n",
       "  /* jupyter's `normalize.less` sets `[hidden] { display: none; }`\n",
       "     but bootstrap.min.css set `[hidden] { display: none !important; }`\n",
       "     so we also need the `!important` here to be able to override the\n",
       "     default hidden behavior on the sphinx rendered scikit-learn.org.\n",
       "     See: https://github.com/scikit-learn/scikit-learn/issues/21755 */\n",
       "  display: inline-block !important;\n",
       "  position: relative;\n",
       "}\n",
       "\n",
       "#sk-container-id-1 div.sk-text-repr-fallback {\n",
       "  display: none;\n",
       "}\n",
       "\n",
       "div.sk-parallel-item,\n",
       "div.sk-serial,\n",
       "div.sk-item {\n",
       "  /* draw centered vertical line to link estimators */\n",
       "  background-image: linear-gradient(var(--sklearn-color-text-on-default-background), var(--sklearn-color-text-on-default-background));\n",
       "  background-size: 2px 100%;\n",
       "  background-repeat: no-repeat;\n",
       "  background-position: center center;\n",
       "}\n",
       "\n",
       "/* Parallel-specific style estimator block */\n",
       "\n",
       "#sk-container-id-1 div.sk-parallel-item::after {\n",
       "  content: \"\";\n",
       "  width: 100%;\n",
       "  border-bottom: 2px solid var(--sklearn-color-text-on-default-background);\n",
       "  flex-grow: 1;\n",
       "}\n",
       "\n",
       "#sk-container-id-1 div.sk-parallel {\n",
       "  display: flex;\n",
       "  align-items: stretch;\n",
       "  justify-content: center;\n",
       "  background-color: var(--sklearn-color-background);\n",
       "  position: relative;\n",
       "}\n",
       "\n",
       "#sk-container-id-1 div.sk-parallel-item {\n",
       "  display: flex;\n",
       "  flex-direction: column;\n",
       "}\n",
       "\n",
       "#sk-container-id-1 div.sk-parallel-item:first-child::after {\n",
       "  align-self: flex-end;\n",
       "  width: 50%;\n",
       "}\n",
       "\n",
       "#sk-container-id-1 div.sk-parallel-item:last-child::after {\n",
       "  align-self: flex-start;\n",
       "  width: 50%;\n",
       "}\n",
       "\n",
       "#sk-container-id-1 div.sk-parallel-item:only-child::after {\n",
       "  width: 0;\n",
       "}\n",
       "\n",
       "/* Serial-specific style estimator block */\n",
       "\n",
       "#sk-container-id-1 div.sk-serial {\n",
       "  display: flex;\n",
       "  flex-direction: column;\n",
       "  align-items: center;\n",
       "  background-color: var(--sklearn-color-background);\n",
       "  padding-right: 1em;\n",
       "  padding-left: 1em;\n",
       "}\n",
       "\n",
       "\n",
       "/* Toggleable style: style used for estimator/Pipeline/ColumnTransformer box that is\n",
       "clickable and can be expanded/collapsed.\n",
       "- Pipeline and ColumnTransformer use this feature and define the default style\n",
       "- Estimators will overwrite some part of the style using the `sk-estimator` class\n",
       "*/\n",
       "\n",
       "/* Pipeline and ColumnTransformer style (default) */\n",
       "\n",
       "#sk-container-id-1 div.sk-toggleable {\n",
       "  /* Default theme specific background. It is overwritten whether we have a\n",
       "  specific estimator or a Pipeline/ColumnTransformer */\n",
       "  background-color: var(--sklearn-color-background);\n",
       "}\n",
       "\n",
       "/* Toggleable label */\n",
       "#sk-container-id-1 label.sk-toggleable__label {\n",
       "  cursor: pointer;\n",
       "  display: flex;\n",
       "  width: 100%;\n",
       "  margin-bottom: 0;\n",
       "  padding: 0.5em;\n",
       "  box-sizing: border-box;\n",
       "  text-align: center;\n",
       "  align-items: start;\n",
       "  justify-content: space-between;\n",
       "  gap: 0.5em;\n",
       "}\n",
       "\n",
       "#sk-container-id-1 label.sk-toggleable__label .caption {\n",
       "  font-size: 0.6rem;\n",
       "  font-weight: lighter;\n",
       "  color: var(--sklearn-color-text-muted);\n",
       "}\n",
       "\n",
       "#sk-container-id-1 label.sk-toggleable__label-arrow:before {\n",
       "  /* Arrow on the left of the label */\n",
       "  content: \"▸\";\n",
       "  float: left;\n",
       "  margin-right: 0.25em;\n",
       "  color: var(--sklearn-color-icon);\n",
       "}\n",
       "\n",
       "#sk-container-id-1 label.sk-toggleable__label-arrow:hover:before {\n",
       "  color: var(--sklearn-color-text);\n",
       "}\n",
       "\n",
       "/* Toggleable content - dropdown */\n",
       "\n",
       "#sk-container-id-1 div.sk-toggleable__content {\n",
       "  max-height: 0;\n",
       "  max-width: 0;\n",
       "  overflow: hidden;\n",
       "  text-align: left;\n",
       "  /* unfitted */\n",
       "  background-color: var(--sklearn-color-unfitted-level-0);\n",
       "}\n",
       "\n",
       "#sk-container-id-1 div.sk-toggleable__content.fitted {\n",
       "  /* fitted */\n",
       "  background-color: var(--sklearn-color-fitted-level-0);\n",
       "}\n",
       "\n",
       "#sk-container-id-1 div.sk-toggleable__content pre {\n",
       "  margin: 0.2em;\n",
       "  border-radius: 0.25em;\n",
       "  color: var(--sklearn-color-text);\n",
       "  /* unfitted */\n",
       "  background-color: var(--sklearn-color-unfitted-level-0);\n",
       "}\n",
       "\n",
       "#sk-container-id-1 div.sk-toggleable__content.fitted pre {\n",
       "  /* unfitted */\n",
       "  background-color: var(--sklearn-color-fitted-level-0);\n",
       "}\n",
       "\n",
       "#sk-container-id-1 input.sk-toggleable__control:checked~div.sk-toggleable__content {\n",
       "  /* Expand drop-down */\n",
       "  max-height: 200px;\n",
       "  max-width: 100%;\n",
       "  overflow: auto;\n",
       "}\n",
       "\n",
       "#sk-container-id-1 input.sk-toggleable__control:checked~label.sk-toggleable__label-arrow:before {\n",
       "  content: \"▾\";\n",
       "}\n",
       "\n",
       "/* Pipeline/ColumnTransformer-specific style */\n",
       "\n",
       "#sk-container-id-1 div.sk-label input.sk-toggleable__control:checked~label.sk-toggleable__label {\n",
       "  color: var(--sklearn-color-text);\n",
       "  background-color: var(--sklearn-color-unfitted-level-2);\n",
       "}\n",
       "\n",
       "#sk-container-id-1 div.sk-label.fitted input.sk-toggleable__control:checked~label.sk-toggleable__label {\n",
       "  background-color: var(--sklearn-color-fitted-level-2);\n",
       "}\n",
       "\n",
       "/* Estimator-specific style */\n",
       "\n",
       "/* Colorize estimator box */\n",
       "#sk-container-id-1 div.sk-estimator input.sk-toggleable__control:checked~label.sk-toggleable__label {\n",
       "  /* unfitted */\n",
       "  background-color: var(--sklearn-color-unfitted-level-2);\n",
       "}\n",
       "\n",
       "#sk-container-id-1 div.sk-estimator.fitted input.sk-toggleable__control:checked~label.sk-toggleable__label {\n",
       "  /* fitted */\n",
       "  background-color: var(--sklearn-color-fitted-level-2);\n",
       "}\n",
       "\n",
       "#sk-container-id-1 div.sk-label label.sk-toggleable__label,\n",
       "#sk-container-id-1 div.sk-label label {\n",
       "  /* The background is the default theme color */\n",
       "  color: var(--sklearn-color-text-on-default-background);\n",
       "}\n",
       "\n",
       "/* On hover, darken the color of the background */\n",
       "#sk-container-id-1 div.sk-label:hover label.sk-toggleable__label {\n",
       "  color: var(--sklearn-color-text);\n",
       "  background-color: var(--sklearn-color-unfitted-level-2);\n",
       "}\n",
       "\n",
       "/* Label box, darken color on hover, fitted */\n",
       "#sk-container-id-1 div.sk-label.fitted:hover label.sk-toggleable__label.fitted {\n",
       "  color: var(--sklearn-color-text);\n",
       "  background-color: var(--sklearn-color-fitted-level-2);\n",
       "}\n",
       "\n",
       "/* Estimator label */\n",
       "\n",
       "#sk-container-id-1 div.sk-label label {\n",
       "  font-family: monospace;\n",
       "  font-weight: bold;\n",
       "  display: inline-block;\n",
       "  line-height: 1.2em;\n",
       "}\n",
       "\n",
       "#sk-container-id-1 div.sk-label-container {\n",
       "  text-align: center;\n",
       "}\n",
       "\n",
       "/* Estimator-specific */\n",
       "#sk-container-id-1 div.sk-estimator {\n",
       "  font-family: monospace;\n",
       "  border: 1px dotted var(--sklearn-color-border-box);\n",
       "  border-radius: 0.25em;\n",
       "  box-sizing: border-box;\n",
       "  margin-bottom: 0.5em;\n",
       "  /* unfitted */\n",
       "  background-color: var(--sklearn-color-unfitted-level-0);\n",
       "}\n",
       "\n",
       "#sk-container-id-1 div.sk-estimator.fitted {\n",
       "  /* fitted */\n",
       "  background-color: var(--sklearn-color-fitted-level-0);\n",
       "}\n",
       "\n",
       "/* on hover */\n",
       "#sk-container-id-1 div.sk-estimator:hover {\n",
       "  /* unfitted */\n",
       "  background-color: var(--sklearn-color-unfitted-level-2);\n",
       "}\n",
       "\n",
       "#sk-container-id-1 div.sk-estimator.fitted:hover {\n",
       "  /* fitted */\n",
       "  background-color: var(--sklearn-color-fitted-level-2);\n",
       "}\n",
       "\n",
       "/* Specification for estimator info (e.g. \"i\" and \"?\") */\n",
       "\n",
       "/* Common style for \"i\" and \"?\" */\n",
       "\n",
       ".sk-estimator-doc-link,\n",
       "a:link.sk-estimator-doc-link,\n",
       "a:visited.sk-estimator-doc-link {\n",
       "  float: right;\n",
       "  font-size: smaller;\n",
       "  line-height: 1em;\n",
       "  font-family: monospace;\n",
       "  background-color: var(--sklearn-color-background);\n",
       "  border-radius: 1em;\n",
       "  height: 1em;\n",
       "  width: 1em;\n",
       "  text-decoration: none !important;\n",
       "  margin-left: 0.5em;\n",
       "  text-align: center;\n",
       "  /* unfitted */\n",
       "  border: var(--sklearn-color-unfitted-level-1) 1pt solid;\n",
       "  color: var(--sklearn-color-unfitted-level-1);\n",
       "}\n",
       "\n",
       ".sk-estimator-doc-link.fitted,\n",
       "a:link.sk-estimator-doc-link.fitted,\n",
       "a:visited.sk-estimator-doc-link.fitted {\n",
       "  /* fitted */\n",
       "  border: var(--sklearn-color-fitted-level-1) 1pt solid;\n",
       "  color: var(--sklearn-color-fitted-level-1);\n",
       "}\n",
       "\n",
       "/* On hover */\n",
       "div.sk-estimator:hover .sk-estimator-doc-link:hover,\n",
       ".sk-estimator-doc-link:hover,\n",
       "div.sk-label-container:hover .sk-estimator-doc-link:hover,\n",
       ".sk-estimator-doc-link:hover {\n",
       "  /* unfitted */\n",
       "  background-color: var(--sklearn-color-unfitted-level-3);\n",
       "  color: var(--sklearn-color-background);\n",
       "  text-decoration: none;\n",
       "}\n",
       "\n",
       "div.sk-estimator.fitted:hover .sk-estimator-doc-link.fitted:hover,\n",
       ".sk-estimator-doc-link.fitted:hover,\n",
       "div.sk-label-container:hover .sk-estimator-doc-link.fitted:hover,\n",
       ".sk-estimator-doc-link.fitted:hover {\n",
       "  /* fitted */\n",
       "  background-color: var(--sklearn-color-fitted-level-3);\n",
       "  color: var(--sklearn-color-background);\n",
       "  text-decoration: none;\n",
       "}\n",
       "\n",
       "/* Span, style for the box shown on hovering the info icon */\n",
       ".sk-estimator-doc-link span {\n",
       "  display: none;\n",
       "  z-index: 9999;\n",
       "  position: relative;\n",
       "  font-weight: normal;\n",
       "  right: .2ex;\n",
       "  padding: .5ex;\n",
       "  margin: .5ex;\n",
       "  width: min-content;\n",
       "  min-width: 20ex;\n",
       "  max-width: 50ex;\n",
       "  color: var(--sklearn-color-text);\n",
       "  box-shadow: 2pt 2pt 4pt #999;\n",
       "  /* unfitted */\n",
       "  background: var(--sklearn-color-unfitted-level-0);\n",
       "  border: .5pt solid var(--sklearn-color-unfitted-level-3);\n",
       "}\n",
       "\n",
       ".sk-estimator-doc-link.fitted span {\n",
       "  /* fitted */\n",
       "  background: var(--sklearn-color-fitted-level-0);\n",
       "  border: var(--sklearn-color-fitted-level-3);\n",
       "}\n",
       "\n",
       ".sk-estimator-doc-link:hover span {\n",
       "  display: block;\n",
       "}\n",
       "\n",
       "/* \"?\"-specific style due to the `<a>` HTML tag */\n",
       "\n",
       "#sk-container-id-1 a.estimator_doc_link {\n",
       "  float: right;\n",
       "  font-size: 1rem;\n",
       "  line-height: 1em;\n",
       "  font-family: monospace;\n",
       "  background-color: var(--sklearn-color-background);\n",
       "  border-radius: 1rem;\n",
       "  height: 1rem;\n",
       "  width: 1rem;\n",
       "  text-decoration: none;\n",
       "  /* unfitted */\n",
       "  color: var(--sklearn-color-unfitted-level-1);\n",
       "  border: var(--sklearn-color-unfitted-level-1) 1pt solid;\n",
       "}\n",
       "\n",
       "#sk-container-id-1 a.estimator_doc_link.fitted {\n",
       "  /* fitted */\n",
       "  border: var(--sklearn-color-fitted-level-1) 1pt solid;\n",
       "  color: var(--sklearn-color-fitted-level-1);\n",
       "}\n",
       "\n",
       "/* On hover */\n",
       "#sk-container-id-1 a.estimator_doc_link:hover {\n",
       "  /* unfitted */\n",
       "  background-color: var(--sklearn-color-unfitted-level-3);\n",
       "  color: var(--sklearn-color-background);\n",
       "  text-decoration: none;\n",
       "}\n",
       "\n",
       "#sk-container-id-1 a.estimator_doc_link.fitted:hover {\n",
       "  /* fitted */\n",
       "  background-color: var(--sklearn-color-fitted-level-3);\n",
       "}\n",
       "</style><div id=\"sk-container-id-1\" class=\"sk-top-container\"><div class=\"sk-text-repr-fallback\"><pre>LinearRegression(n_jobs=-1)</pre><b>In a Jupyter environment, please rerun this cell to show the HTML representation or trust the notebook. <br />On GitHub, the HTML representation is unable to render, please try loading this page with nbviewer.org.</b></div><div class=\"sk-container\" hidden><div class=\"sk-item\"><div class=\"sk-estimator fitted sk-toggleable\"><input class=\"sk-toggleable__control sk-hidden--visually\" id=\"sk-estimator-id-1\" type=\"checkbox\" checked><label for=\"sk-estimator-id-1\" class=\"sk-toggleable__label fitted sk-toggleable__label-arrow\"><div><div>LinearRegression</div></div><div><a class=\"sk-estimator-doc-link fitted\" rel=\"noreferrer\" target=\"_blank\" href=\"https://scikit-learn.org/1.6/modules/generated/sklearn.linear_model.LinearRegression.html\">?<span>Documentation for LinearRegression</span></a><span class=\"sk-estimator-doc-link fitted\">i<span>Fitted</span></span></div></label><div class=\"sk-toggleable__content fitted\"><pre>LinearRegression(n_jobs=-1)</pre></div> </div></div></div></div>"
      ]
     },
     "execution_count": 46,
     "metadata": {},
     "output_type": "execute_result"
    }
   ],
   "execution_count": 46
  },
  {
   "metadata": {
    "ExecuteTime": {
     "end_time": "2024-12-28T08:45:46.520863Z",
     "start_time": "2024-12-28T08:45:46.502357Z"
    }
   },
   "cell_type": "code",
   "source": "predictions = linear_model.predict(X_test)",
   "id": "9917cdd6d484236a",
   "outputs": [],
   "execution_count": 47
  },
  {
   "metadata": {
    "ExecuteTime": {
     "end_time": "2024-12-28T08:55:13.416577Z",
     "start_time": "2024-12-28T08:55:13.412504Z"
    }
   },
   "cell_type": "code",
   "source": [
    "pl.DataFrame({\n",
    "    'Actual': y_test,\n",
    "    'Predicted': predictions,\n",
    "    'Error': y_test - predictions,\n",
    "},\n",
    "\n",
    ")"
   ],
   "id": "13e34dd00ad8ef67",
   "outputs": [
    {
     "data": {
      "text/plain": [
       "shape: (10, 3)\n",
       "┌───────────┬───────────────┬───────────────┐\n",
       "│ Actual    ┆ Predicted     ┆ Error         │\n",
       "│ ---       ┆ ---           ┆ ---           │\n",
       "│ f64       ┆ f64           ┆ f64           │\n",
       "╞═══════════╪═══════════════╪═══════════════╡\n",
       "│ 134307.35 ┆ 126362.879083 ┆ 7944.470917   │\n",
       "│ 81005.76  ┆ 84608.453836  ┆ -3602.693836  │\n",
       "│ 99937.59  ┆ 99677.494252  ┆ 260.095748    │\n",
       "│ 64926.08  ┆ 46357.460686  ┆ 18568.619314  │\n",
       "│ 125370.37 ┆ 128750.482885 ┆ -3380.112885  │\n",
       "│ 35673.41  ┆ 50912.417419  ┆ -15239.007419 │\n",
       "│ 105733.54 ┆ 109741.350327 ┆ -4007.810327  │\n",
       "│ 107404.34 ┆ 100643.242816 ┆ 6761.097184   │\n",
       "│ 97427.84  ┆ 97599.275746  ┆ -171.435746   │\n",
       "│ 122776.86 ┆ 113097.425244 ┆ 9679.434756   │\n",
       "└───────────┴───────────────┴───────────────┘"
      ],
      "text/html": [
       "<div><style>\n",
       ".dataframe > thead > tr,\n",
       ".dataframe > tbody > tr {\n",
       "  text-align: right;\n",
       "  white-space: pre-wrap;\n",
       "}\n",
       "</style>\n",
       "<small>shape: (10, 3)</small><table border=\"1\" class=\"dataframe\"><thead><tr><th>Actual</th><th>Predicted</th><th>Error</th></tr><tr><td>f64</td><td>f64</td><td>f64</td></tr></thead><tbody><tr><td>134307.35</td><td>126362.879083</td><td>7944.470917</td></tr><tr><td>81005.76</td><td>84608.453836</td><td>-3602.693836</td></tr><tr><td>99937.59</td><td>99677.494252</td><td>260.095748</td></tr><tr><td>64926.08</td><td>46357.460686</td><td>18568.619314</td></tr><tr><td>125370.37</td><td>128750.482885</td><td>-3380.112885</td></tr><tr><td>35673.41</td><td>50912.417419</td><td>-15239.007419</td></tr><tr><td>105733.54</td><td>109741.350327</td><td>-4007.810327</td></tr><tr><td>107404.34</td><td>100643.242816</td><td>6761.097184</td></tr><tr><td>97427.84</td><td>97599.275746</td><td>-171.435746</td></tr><tr><td>122776.86</td><td>113097.425244</td><td>9679.434756</td></tr></tbody></table></div>"
      ]
     },
     "execution_count": 66,
     "metadata": {},
     "output_type": "execute_result"
    }
   ],
   "execution_count": 66
  },
  {
   "metadata": {
    "ExecuteTime": {
     "end_time": "2024-12-28T08:47:52.752844Z",
     "start_time": "2024-12-28T08:47:52.747770Z"
    }
   },
   "cell_type": "code",
   "source": "dataset",
   "id": "a4158bcfebf26f13",
   "outputs": [
    {
     "data": {
      "text/plain": [
       "shape: (50, 5)\n",
       "┌───────────┬────────────────┬─────────────────┬────────────┬───────────┐\n",
       "│ R&D Spend ┆ Administration ┆ Marketing Spend ┆ State      ┆ Profit    │\n",
       "│ ---       ┆ ---            ┆ ---             ┆ ---        ┆ ---       │\n",
       "│ f64       ┆ f64            ┆ f64             ┆ str        ┆ f64       │\n",
       "╞═══════════╪════════════════╪═════════════════╪════════════╪═══════════╡\n",
       "│ 165349.2  ┆ 136897.8       ┆ 471784.1        ┆ New York   ┆ 192261.83 │\n",
       "│ 162597.7  ┆ 151377.59      ┆ 443898.53       ┆ California ┆ 191792.06 │\n",
       "│ 153441.51 ┆ 101145.55      ┆ 407934.54       ┆ Florida    ┆ 191050.39 │\n",
       "│ 144372.41 ┆ 118671.85      ┆ 383199.62       ┆ New York   ┆ 182901.99 │\n",
       "│ 142107.34 ┆ 91391.77       ┆ 366168.42       ┆ Florida    ┆ 166187.94 │\n",
       "│ …         ┆ …              ┆ …               ┆ …          ┆ …         │\n",
       "│ 1000.23   ┆ 124153.04      ┆ 1903.93         ┆ New York   ┆ 64926.08  │\n",
       "│ 1315.46   ┆ 115816.21      ┆ 297114.46       ┆ Florida    ┆ 49490.75  │\n",
       "│ 0.0       ┆ 135426.92      ┆ 0.0             ┆ California ┆ 42559.73  │\n",
       "│ 542.05    ┆ 51743.15       ┆ 0.0             ┆ New York   ┆ 35673.41  │\n",
       "│ 0.0       ┆ 116983.8       ┆ 45173.06        ┆ California ┆ 14681.4   │\n",
       "└───────────┴────────────────┴─────────────────┴────────────┴───────────┘"
      ],
      "text/html": [
       "<div><style>\n",
       ".dataframe > thead > tr,\n",
       ".dataframe > tbody > tr {\n",
       "  text-align: right;\n",
       "  white-space: pre-wrap;\n",
       "}\n",
       "</style>\n",
       "<small>shape: (50, 5)</small><table border=\"1\" class=\"dataframe\"><thead><tr><th>R&amp;D Spend</th><th>Administration</th><th>Marketing Spend</th><th>State</th><th>Profit</th></tr><tr><td>f64</td><td>f64</td><td>f64</td><td>str</td><td>f64</td></tr></thead><tbody><tr><td>165349.2</td><td>136897.8</td><td>471784.1</td><td>&quot;New York&quot;</td><td>192261.83</td></tr><tr><td>162597.7</td><td>151377.59</td><td>443898.53</td><td>&quot;California&quot;</td><td>191792.06</td></tr><tr><td>153441.51</td><td>101145.55</td><td>407934.54</td><td>&quot;Florida&quot;</td><td>191050.39</td></tr><tr><td>144372.41</td><td>118671.85</td><td>383199.62</td><td>&quot;New York&quot;</td><td>182901.99</td></tr><tr><td>142107.34</td><td>91391.77</td><td>366168.42</td><td>&quot;Florida&quot;</td><td>166187.94</td></tr><tr><td>&hellip;</td><td>&hellip;</td><td>&hellip;</td><td>&hellip;</td><td>&hellip;</td></tr><tr><td>1000.23</td><td>124153.04</td><td>1903.93</td><td>&quot;New York&quot;</td><td>64926.08</td></tr><tr><td>1315.46</td><td>115816.21</td><td>297114.46</td><td>&quot;Florida&quot;</td><td>49490.75</td></tr><tr><td>0.0</td><td>135426.92</td><td>0.0</td><td>&quot;California&quot;</td><td>42559.73</td></tr><tr><td>542.05</td><td>51743.15</td><td>0.0</td><td>&quot;New York&quot;</td><td>35673.41</td></tr><tr><td>0.0</td><td>116983.8</td><td>45173.06</td><td>&quot;California&quot;</td><td>14681.4</td></tr></tbody></table></div>"
      ]
     },
     "execution_count": 57,
     "metadata": {},
     "output_type": "execute_result"
    }
   ],
   "execution_count": 57
  }
 ],
 "metadata": {
  "kernelspec": {
   "display_name": "Python 3",
   "language": "python",
   "name": "python3"
  },
  "language_info": {
   "codemirror_mode": {
    "name": "ipython",
    "version": 2
   },
   "file_extension": ".py",
   "mimetype": "text/x-python",
   "name": "python",
   "nbconvert_exporter": "python",
   "pygments_lexer": "ipython2",
   "version": "2.7.6"
  }
 },
 "nbformat": 4,
 "nbformat_minor": 5
}
