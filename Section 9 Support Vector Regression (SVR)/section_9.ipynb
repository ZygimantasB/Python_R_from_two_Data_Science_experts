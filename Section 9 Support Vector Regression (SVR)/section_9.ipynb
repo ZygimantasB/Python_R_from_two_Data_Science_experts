{
 "cells": [
  {
   "cell_type": "code",
   "id": "initial_id",
   "metadata": {
    "collapsed": true,
    "ExecuteTime": {
     "end_time": "2024-12-28T10:42:37.609201Z",
     "start_time": "2024-12-28T10:42:36.996138Z"
    }
   },
   "source": [
    "import numpy as np\n",
    "import polars as pl\n",
    "import polars.selectors as cs\n",
    "import matplotlib.pyplot as plt\n",
    "import seaborn as sns\n",
    "import plotly.express as px\n",
    "import plotly.graph_objects as go\n",
    "import great_tables as tg\n",
    "import altair as alt"
   ],
   "outputs": [],
   "execution_count": 1
  },
  {
   "metadata": {
    "ExecuteTime": {
     "end_time": "2024-12-28T10:43:30.046815Z",
     "start_time": "2024-12-28T10:43:30.044401Z"
    }
   },
   "cell_type": "code",
   "source": "dataset_path = r'../DATASETS/Position_Salaries.csv'",
   "id": "b0b85ffa496c13df",
   "outputs": [],
   "execution_count": 2
  },
  {
   "metadata": {
    "ExecuteTime": {
     "end_time": "2024-12-28T10:43:37.175763Z",
     "start_time": "2024-12-28T10:43:37.099722Z"
    }
   },
   "cell_type": "code",
   "source": "dataset = pl.read_csv(dataset_path)",
   "id": "9ea08a67c8efb30c",
   "outputs": [],
   "execution_count": 3
  },
  {
   "metadata": {
    "ExecuteTime": {
     "end_time": "2024-12-28T10:43:42.357900Z",
     "start_time": "2024-12-28T10:43:42.352439Z"
    }
   },
   "cell_type": "code",
   "source": "dataset.head()",
   "id": "c61b1a70f71c246a",
   "outputs": [
    {
     "data": {
      "text/plain": [
       "shape: (5, 3)\n",
       "┌───────────────────┬───────┬────────┐\n",
       "│ Position          ┆ Level ┆ Salary │\n",
       "│ ---               ┆ ---   ┆ ---    │\n",
       "│ str               ┆ i64   ┆ i64    │\n",
       "╞═══════════════════╪═══════╪════════╡\n",
       "│ Business Analyst  ┆ 1     ┆ 45000  │\n",
       "│ Junior Consultant ┆ 2     ┆ 50000  │\n",
       "│ Senior Consultant ┆ 3     ┆ 60000  │\n",
       "│ Manager           ┆ 4     ┆ 80000  │\n",
       "│ Country Manager   ┆ 5     ┆ 110000 │\n",
       "└───────────────────┴───────┴────────┘"
      ],
      "text/html": [
       "<div><style>\n",
       ".dataframe > thead > tr,\n",
       ".dataframe > tbody > tr {\n",
       "  text-align: right;\n",
       "  white-space: pre-wrap;\n",
       "}\n",
       "</style>\n",
       "<small>shape: (5, 3)</small><table border=\"1\" class=\"dataframe\"><thead><tr><th>Position</th><th>Level</th><th>Salary</th></tr><tr><td>str</td><td>i64</td><td>i64</td></tr></thead><tbody><tr><td>&quot;Business Analyst&quot;</td><td>1</td><td>45000</td></tr><tr><td>&quot;Junior Consultant&quot;</td><td>2</td><td>50000</td></tr><tr><td>&quot;Senior Consultant&quot;</td><td>3</td><td>60000</td></tr><tr><td>&quot;Manager&quot;</td><td>4</td><td>80000</td></tr><tr><td>&quot;Country Manager&quot;</td><td>5</td><td>110000</td></tr></tbody></table></div>"
      ]
     },
     "execution_count": 4,
     "metadata": {},
     "output_type": "execute_result"
    }
   ],
   "execution_count": 4
  },
  {
   "metadata": {},
   "cell_type": "code",
   "outputs": [],
   "execution_count": null,
   "source": "",
   "id": "aff3619129ee867e"
  }
 ],
 "metadata": {
  "kernelspec": {
   "display_name": "Python 3",
   "language": "python",
   "name": "python3"
  },
  "language_info": {
   "codemirror_mode": {
    "name": "ipython",
    "version": 2
   },
   "file_extension": ".py",
   "mimetype": "text/x-python",
   "name": "python",
   "nbconvert_exporter": "python",
   "pygments_lexer": "ipython2",
   "version": "2.7.6"
  }
 },
 "nbformat": 4,
 "nbformat_minor": 5
}
