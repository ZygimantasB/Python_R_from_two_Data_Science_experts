{
 "cells": [
  {
   "cell_type": "code",
   "id": "initial_id",
   "metadata": {
    "collapsed": true,
    "ExecuteTime": {
     "end_time": "2025-01-01T17:05:50.474339Z",
     "start_time": "2025-01-01T17:05:49.491119Z"
    }
   },
   "source": [
    "import numpy as np\n",
    "import polars as pl\n",
    "import polars.selectors as cs\n",
    "import matplotlib.pyplot as plt\n",
    "import seaborn as sns\n",
    "import plotly.express as px\n",
    "import plotly.graph_objects as go\n",
    "import great_tables as tg\n",
    "import altair as alt"
   ],
   "outputs": [],
   "execution_count": 1
  },
  {
   "metadata": {
    "ExecuteTime": {
     "end_time": "2025-01-01T17:07:25.853245Z",
     "start_time": "2025-01-01T17:07:25.850538Z"
    }
   },
   "cell_type": "code",
   "source": "df_path = r'../DATASETS/Mall_Customers.csv'",
   "id": "ae6cb4b52d1d530",
   "outputs": [],
   "execution_count": 2
  },
  {
   "metadata": {
    "ExecuteTime": {
     "end_time": "2025-01-01T17:07:34.428345Z",
     "start_time": "2025-01-01T17:07:34.363426Z"
    }
   },
   "cell_type": "code",
   "source": "df = pl.read_csv(df_path)",
   "id": "eabb569edb3dbf86",
   "outputs": [],
   "execution_count": 3
  },
  {
   "metadata": {
    "ExecuteTime": {
     "end_time": "2025-01-01T17:07:35.696051Z",
     "start_time": "2025-01-01T17:07:35.688036Z"
    }
   },
   "cell_type": "code",
   "source": "df",
   "id": "331717ea95c1a98f",
   "outputs": [
    {
     "data": {
      "text/plain": [
       "shape: (200, 5)\n",
       "┌────────────┬────────┬─────┬────────────────────┬────────────────────────┐\n",
       "│ CustomerID ┆ Genre  ┆ Age ┆ Annual Income (k$) ┆ Spending Score (1-100) │\n",
       "│ ---        ┆ ---    ┆ --- ┆ ---                ┆ ---                    │\n",
       "│ i64        ┆ str    ┆ i64 ┆ i64                ┆ i64                    │\n",
       "╞════════════╪════════╪═════╪════════════════════╪════════════════════════╡\n",
       "│ 1          ┆ Male   ┆ 19  ┆ 15                 ┆ 39                     │\n",
       "│ 2          ┆ Male   ┆ 21  ┆ 15                 ┆ 81                     │\n",
       "│ 3          ┆ Female ┆ 20  ┆ 16                 ┆ 6                      │\n",
       "│ 4          ┆ Female ┆ 23  ┆ 16                 ┆ 77                     │\n",
       "│ 5          ┆ Female ┆ 31  ┆ 17                 ┆ 40                     │\n",
       "│ …          ┆ …      ┆ …   ┆ …                  ┆ …                      │\n",
       "│ 196        ┆ Female ┆ 35  ┆ 120                ┆ 79                     │\n",
       "│ 197        ┆ Female ┆ 45  ┆ 126                ┆ 28                     │\n",
       "│ 198        ┆ Male   ┆ 32  ┆ 126                ┆ 74                     │\n",
       "│ 199        ┆ Male   ┆ 32  ┆ 137                ┆ 18                     │\n",
       "│ 200        ┆ Male   ┆ 30  ┆ 137                ┆ 83                     │\n",
       "└────────────┴────────┴─────┴────────────────────┴────────────────────────┘"
      ],
      "text/html": [
       "<div><style>\n",
       ".dataframe > thead > tr,\n",
       ".dataframe > tbody > tr {\n",
       "  text-align: right;\n",
       "  white-space: pre-wrap;\n",
       "}\n",
       "</style>\n",
       "<small>shape: (200, 5)</small><table border=\"1\" class=\"dataframe\"><thead><tr><th>CustomerID</th><th>Genre</th><th>Age</th><th>Annual Income (k$)</th><th>Spending Score (1-100)</th></tr><tr><td>i64</td><td>str</td><td>i64</td><td>i64</td><td>i64</td></tr></thead><tbody><tr><td>1</td><td>&quot;Male&quot;</td><td>19</td><td>15</td><td>39</td></tr><tr><td>2</td><td>&quot;Male&quot;</td><td>21</td><td>15</td><td>81</td></tr><tr><td>3</td><td>&quot;Female&quot;</td><td>20</td><td>16</td><td>6</td></tr><tr><td>4</td><td>&quot;Female&quot;</td><td>23</td><td>16</td><td>77</td></tr><tr><td>5</td><td>&quot;Female&quot;</td><td>31</td><td>17</td><td>40</td></tr><tr><td>&hellip;</td><td>&hellip;</td><td>&hellip;</td><td>&hellip;</td><td>&hellip;</td></tr><tr><td>196</td><td>&quot;Female&quot;</td><td>35</td><td>120</td><td>79</td></tr><tr><td>197</td><td>&quot;Female&quot;</td><td>45</td><td>126</td><td>28</td></tr><tr><td>198</td><td>&quot;Male&quot;</td><td>32</td><td>126</td><td>74</td></tr><tr><td>199</td><td>&quot;Male&quot;</td><td>32</td><td>137</td><td>18</td></tr><tr><td>200</td><td>&quot;Male&quot;</td><td>30</td><td>137</td><td>83</td></tr></tbody></table></div>"
      ]
     },
     "execution_count": 4,
     "metadata": {},
     "output_type": "execute_result"
    }
   ],
   "execution_count": 4
  },
  {
   "metadata": {
    "ExecuteTime": {
     "end_time": "2025-01-01T17:12:12.313847Z",
     "start_time": "2025-01-01T17:12:12.311709Z"
    }
   },
   "cell_type": "code",
   "source": "",
   "id": "6746316c54d65e46",
   "outputs": [],
   "execution_count": null
  }
 ],
 "metadata": {
  "kernelspec": {
   "display_name": "Python 3",
   "language": "python",
   "name": "python3"
  },
  "language_info": {
   "codemirror_mode": {
    "name": "ipython",
    "version": 2
   },
   "file_extension": ".py",
   "mimetype": "text/x-python",
   "name": "python",
   "nbconvert_exporter": "python",
   "pygments_lexer": "ipython2",
   "version": "2.7.6"
  }
 },
 "nbformat": 4,
 "nbformat_minor": 5
}
