{
 "cells": [
  {
   "cell_type": "code",
   "id": "initial_id",
   "metadata": {
    "collapsed": true,
    "ExecuteTime": {
     "end_time": "2024-12-28T12:55:46.366491Z",
     "start_time": "2024-12-28T12:55:46.362504Z"
    }
   },
   "source": [
    "import numpy as np\n",
    "import polars as pl\n",
    "import polars.selectors as cs\n",
    "import matplotlib.pyplot as plt\n",
    "import seaborn as sns\n",
    "import plotly.express as px\n",
    "import plotly.graph_objects as go\n",
    "import great_tables as tg\n",
    "import altair as alt"
   ],
   "outputs": [],
   "execution_count": 6
  },
  {
   "metadata": {
    "ExecuteTime": {
     "end_time": "2024-12-28T12:55:46.399619Z",
     "start_time": "2024-12-28T12:55:46.396387Z"
    }
   },
   "cell_type": "code",
   "source": "dataset_path = r'../DATASETS/Position_Salaries.csv'",
   "id": "509948c58acf0bf3",
   "outputs": [],
   "execution_count": 7
  },
  {
   "metadata": {
    "ExecuteTime": {
     "end_time": "2024-12-28T12:55:46.422069Z",
     "start_time": "2024-12-28T12:55:46.418606Z"
    }
   },
   "cell_type": "code",
   "source": "dataset = pl.read_csv(dataset_path)",
   "id": "7641da4169a58750",
   "outputs": [],
   "execution_count": 8
  },
  {
   "metadata": {
    "ExecuteTime": {
     "end_time": "2024-12-28T12:55:46.438798Z",
     "start_time": "2024-12-28T12:55:46.433516Z"
    }
   },
   "cell_type": "code",
   "source": "dataset",
   "id": "bd8076057405c090",
   "outputs": [
    {
     "data": {
      "text/plain": [
       "shape: (10, 3)\n",
       "┌───────────────────┬───────┬─────────┐\n",
       "│ Position          ┆ Level ┆ Salary  │\n",
       "│ ---               ┆ ---   ┆ ---     │\n",
       "│ str               ┆ i64   ┆ i64     │\n",
       "╞═══════════════════╪═══════╪═════════╡\n",
       "│ Business Analyst  ┆ 1     ┆ 45000   │\n",
       "│ Junior Consultant ┆ 2     ┆ 50000   │\n",
       "│ Senior Consultant ┆ 3     ┆ 60000   │\n",
       "│ Manager           ┆ 4     ┆ 80000   │\n",
       "│ Country Manager   ┆ 5     ┆ 110000  │\n",
       "│ Region Manager    ┆ 6     ┆ 150000  │\n",
       "│ Partner           ┆ 7     ┆ 200000  │\n",
       "│ Senior Partner    ┆ 8     ┆ 300000  │\n",
       "│ C-level           ┆ 9     ┆ 500000  │\n",
       "│ CEO               ┆ 10    ┆ 1000000 │\n",
       "└───────────────────┴───────┴─────────┘"
      ],
      "text/html": [
       "<div><style>\n",
       ".dataframe > thead > tr,\n",
       ".dataframe > tbody > tr {\n",
       "  text-align: right;\n",
       "  white-space: pre-wrap;\n",
       "}\n",
       "</style>\n",
       "<small>shape: (10, 3)</small><table border=\"1\" class=\"dataframe\"><thead><tr><th>Position</th><th>Level</th><th>Salary</th></tr><tr><td>str</td><td>i64</td><td>i64</td></tr></thead><tbody><tr><td>&quot;Business Analyst&quot;</td><td>1</td><td>45000</td></tr><tr><td>&quot;Junior Consultant&quot;</td><td>2</td><td>50000</td></tr><tr><td>&quot;Senior Consultant&quot;</td><td>3</td><td>60000</td></tr><tr><td>&quot;Manager&quot;</td><td>4</td><td>80000</td></tr><tr><td>&quot;Country Manager&quot;</td><td>5</td><td>110000</td></tr><tr><td>&quot;Region Manager&quot;</td><td>6</td><td>150000</td></tr><tr><td>&quot;Partner&quot;</td><td>7</td><td>200000</td></tr><tr><td>&quot;Senior Partner&quot;</td><td>8</td><td>300000</td></tr><tr><td>&quot;C-level&quot;</td><td>9</td><td>500000</td></tr><tr><td>&quot;CEO&quot;</td><td>10</td><td>1000000</td></tr></tbody></table></div>"
      ]
     },
     "execution_count": 9,
     "metadata": {},
     "output_type": "execute_result"
    }
   ],
   "execution_count": 9
  },
  {
   "metadata": {
    "ExecuteTime": {
     "end_time": "2024-12-28T12:55:46.579123Z",
     "start_time": "2024-12-28T12:55:46.576105Z"
    }
   },
   "cell_type": "code",
   "source": "",
   "id": "494dc45a799efbe9",
   "outputs": [],
   "execution_count": null
  }
 ],
 "metadata": {
  "kernelspec": {
   "display_name": "Python 3",
   "language": "python",
   "name": "python3"
  },
  "language_info": {
   "codemirror_mode": {
    "name": "ipython",
    "version": 2
   },
   "file_extension": ".py",
   "mimetype": "text/x-python",
   "name": "python",
   "nbconvert_exporter": "python",
   "pygments_lexer": "ipython2",
   "version": "2.7.6"
  }
 },
 "nbformat": 4,
 "nbformat_minor": 5
}
