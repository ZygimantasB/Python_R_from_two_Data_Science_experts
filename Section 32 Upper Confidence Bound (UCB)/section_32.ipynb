{
 "cells": [
  {
   "cell_type": "code",
   "id": "initial_id",
   "metadata": {
    "collapsed": true,
    "ExecuteTime": {
     "end_time": "2025-01-01T17:15:35.770942Z",
     "start_time": "2025-01-01T17:15:34.968407Z"
    }
   },
   "source": [
    "import numpy as np\n",
    "import polars as pl\n",
    "import polars.selectors as cs\n",
    "import matplotlib.pyplot as plt\n",
    "import seaborn as sns\n",
    "import plotly.express as px\n",
    "import plotly.graph_objects as go\n",
    "import great_tables as tg\n",
    "import altair as alt"
   ],
   "outputs": [],
   "execution_count": 1
  },
  {
   "metadata": {
    "ExecuteTime": {
     "end_time": "2025-01-01T17:17:21.168529Z",
     "start_time": "2025-01-01T17:17:21.165777Z"
    }
   },
   "cell_type": "code",
   "source": "df_path = r'../DATASETS/Ads_CTR_Optimisation.csv'",
   "id": "dd5e6dba7b2c940d",
   "outputs": [],
   "execution_count": 2
  },
  {
   "metadata": {
    "ExecuteTime": {
     "end_time": "2025-01-01T17:25:46.318834Z",
     "start_time": "2025-01-01T17:25:46.314520Z"
    }
   },
   "cell_type": "code",
   "source": "df = pl.read_csv(df_path)",
   "id": "317005a3ba0fbd27",
   "outputs": [],
   "execution_count": 8
  },
  {
   "metadata": {
    "ExecuteTime": {
     "end_time": "2025-01-01T17:27:16.869564Z",
     "start_time": "2025-01-01T17:27:16.864301Z"
    }
   },
   "cell_type": "code",
   "source": "df",
   "id": "ebc9b923b3af6ebb",
   "outputs": [
    {
     "data": {
      "text/plain": [
       "shape: (10_000, 10)\n",
       "┌──────┬──────┬──────┬──────┬───┬──────┬──────┬──────┬───────┐\n",
       "│ Ad 1 ┆ Ad 2 ┆ Ad 3 ┆ Ad 4 ┆ … ┆ Ad 7 ┆ Ad 8 ┆ Ad 9 ┆ Ad 10 │\n",
       "│ ---  ┆ ---  ┆ ---  ┆ ---  ┆   ┆ ---  ┆ ---  ┆ ---  ┆ ---   │\n",
       "│ i64  ┆ i64  ┆ i64  ┆ i64  ┆   ┆ i64  ┆ i64  ┆ i64  ┆ i64   │\n",
       "╞══════╪══════╪══════╪══════╪═══╪══════╪══════╪══════╪═══════╡\n",
       "│ 1    ┆ 0    ┆ 0    ┆ 0    ┆ … ┆ 0    ┆ 0    ┆ 1    ┆ 0     │\n",
       "│ 0    ┆ 0    ┆ 0    ┆ 0    ┆ … ┆ 0    ┆ 0    ┆ 1    ┆ 0     │\n",
       "│ 0    ┆ 0    ┆ 0    ┆ 0    ┆ … ┆ 0    ┆ 0    ┆ 0    ┆ 0     │\n",
       "│ 0    ┆ 1    ┆ 0    ┆ 0    ┆ … ┆ 0    ┆ 1    ┆ 0    ┆ 0     │\n",
       "│ 0    ┆ 0    ┆ 0    ┆ 0    ┆ … ┆ 0    ┆ 0    ┆ 0    ┆ 0     │\n",
       "│ …    ┆ …    ┆ …    ┆ …    ┆ … ┆ …    ┆ …    ┆ …    ┆ …     │\n",
       "│ 0    ┆ 0    ┆ 1    ┆ 0    ┆ … ┆ 0    ┆ 1    ┆ 0    ┆ 0     │\n",
       "│ 0    ┆ 0    ┆ 0    ┆ 0    ┆ … ┆ 0    ┆ 0    ┆ 0    ┆ 0     │\n",
       "│ 0    ┆ 0    ┆ 0    ┆ 0    ┆ … ┆ 0    ┆ 0    ┆ 0    ┆ 0     │\n",
       "│ 1    ┆ 0    ┆ 0    ┆ 0    ┆ … ┆ 0    ┆ 1    ┆ 0    ┆ 0     │\n",
       "│ 0    ┆ 1    ┆ 0    ┆ 0    ┆ … ┆ 0    ┆ 0    ┆ 0    ┆ 0     │\n",
       "└──────┴──────┴──────┴──────┴───┴──────┴──────┴──────┴───────┘"
      ],
      "text/html": [
       "<div><style>\n",
       ".dataframe > thead > tr,\n",
       ".dataframe > tbody > tr {\n",
       "  text-align: right;\n",
       "  white-space: pre-wrap;\n",
       "}\n",
       "</style>\n",
       "<small>shape: (10_000, 10)</small><table border=\"1\" class=\"dataframe\"><thead><tr><th>Ad 1</th><th>Ad 2</th><th>Ad 3</th><th>Ad 4</th><th>Ad 5</th><th>Ad 6</th><th>Ad 7</th><th>Ad 8</th><th>Ad 9</th><th>Ad 10</th></tr><tr><td>i64</td><td>i64</td><td>i64</td><td>i64</td><td>i64</td><td>i64</td><td>i64</td><td>i64</td><td>i64</td><td>i64</td></tr></thead><tbody><tr><td>1</td><td>0</td><td>0</td><td>0</td><td>1</td><td>0</td><td>0</td><td>0</td><td>1</td><td>0</td></tr><tr><td>0</td><td>0</td><td>0</td><td>0</td><td>0</td><td>0</td><td>0</td><td>0</td><td>1</td><td>0</td></tr><tr><td>0</td><td>0</td><td>0</td><td>0</td><td>0</td><td>0</td><td>0</td><td>0</td><td>0</td><td>0</td></tr><tr><td>0</td><td>1</td><td>0</td><td>0</td><td>0</td><td>0</td><td>0</td><td>1</td><td>0</td><td>0</td></tr><tr><td>0</td><td>0</td><td>0</td><td>0</td><td>0</td><td>0</td><td>0</td><td>0</td><td>0</td><td>0</td></tr><tr><td>&hellip;</td><td>&hellip;</td><td>&hellip;</td><td>&hellip;</td><td>&hellip;</td><td>&hellip;</td><td>&hellip;</td><td>&hellip;</td><td>&hellip;</td><td>&hellip;</td></tr><tr><td>0</td><td>0</td><td>1</td><td>0</td><td>0</td><td>0</td><td>0</td><td>1</td><td>0</td><td>0</td></tr><tr><td>0</td><td>0</td><td>0</td><td>0</td><td>0</td><td>0</td><td>0</td><td>0</td><td>0</td><td>0</td></tr><tr><td>0</td><td>0</td><td>0</td><td>0</td><td>0</td><td>0</td><td>0</td><td>0</td><td>0</td><td>0</td></tr><tr><td>1</td><td>0</td><td>0</td><td>0</td><td>0</td><td>0</td><td>0</td><td>1</td><td>0</td><td>0</td></tr><tr><td>0</td><td>1</td><td>0</td><td>0</td><td>0</td><td>0</td><td>0</td><td>0</td><td>0</td><td>0</td></tr></tbody></table></div>"
      ]
     },
     "execution_count": 10,
     "metadata": {},
     "output_type": "execute_result"
    }
   ],
   "execution_count": 10
  },
  {
   "metadata": {
    "ExecuteTime": {
     "end_time": "2025-01-01T17:34:29.159435Z",
     "start_time": "2025-01-01T17:34:29.156626Z"
    }
   },
   "cell_type": "code",
   "source": [
    "N = 10_000\n",
    "d = 10\n",
    "ads_selected = []\n",
    "numbers_of_selections = [0] * d\n",
    "total_reward = 0"
   ],
   "id": "e456cc437e48d85d",
   "outputs": [],
   "execution_count": 11
  },
  {
   "metadata": {
    "ExecuteTime": {
     "end_time": "2025-01-01T17:38:37.066377Z",
     "start_time": "2025-01-01T17:38:32.718972Z"
    }
   },
   "cell_type": "code",
   "source": [
    "for n in range(N):\n",
    "    ad = 0\n",
    "    max_upper_bound = 0\n",
    "    for n in range(0, N):\n",
    "        ad = 0\n",
    "        max_upper_bound = 0\n",
    "        for i in range(0, d):\n",
    "            if numbers_of_selections[i] > 0:\n",
    "                average_reward = sum\n"
   ],
   "id": "e9a4453ad3bdc69f",
   "outputs": [],
   "execution_count": 12
  }
 ],
 "metadata": {
  "kernelspec": {
   "display_name": "Python 3",
   "language": "python",
   "name": "python3"
  },
  "language_info": {
   "codemirror_mode": {
    "name": "ipython",
    "version": 2
   },
   "file_extension": ".py",
   "mimetype": "text/x-python",
   "name": "python",
   "nbconvert_exporter": "python",
   "pygments_lexer": "ipython2",
   "version": "2.7.6"
  }
 },
 "nbformat": 4,
 "nbformat_minor": 5
}
