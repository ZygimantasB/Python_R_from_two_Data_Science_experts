{
 "cells": [
  {
   "cell_type": "code",
   "id": "initial_id",
   "metadata": {
    "collapsed": true,
    "ExecuteTime": {
     "end_time": "2024-12-22T18:24:05.694095Z",
     "start_time": "2024-12-22T18:24:05.690679Z"
    }
   },
   "source": [
    "import polars as pl\n",
    "import polars.selectors as cs\n",
    "import seaborn as sns\n",
    "import matplotlib.pyplot as plt\n",
    "import plotly.express as px\n",
    "import plotly.graph_objects as go\n",
    "import numpy as np\n",
    "from great_tables import style, loc"
   ],
   "outputs": [],
   "execution_count": 266
  },
  {
   "metadata": {
    "ExecuteTime": {
     "end_time": "2024-12-22T18:24:05.726026Z",
     "start_time": "2024-12-22T18:24:05.722767Z"
    }
   },
   "cell_type": "code",
   "source": "dataset = pl.read_csv('Data.csv')",
   "id": "7380ed50d08c41d0",
   "outputs": [],
   "execution_count": 267
  },
  {
   "metadata": {
    "ExecuteTime": {
     "end_time": "2024-12-22T18:24:05.758840Z",
     "start_time": "2024-12-22T18:24:05.754587Z"
    }
   },
   "cell_type": "code",
   "source": "dataset",
   "id": "93521872f7014529",
   "outputs": [
    {
     "data": {
      "text/plain": [
       "shape: (10, 4)\n",
       "┌─────────┬──────┬────────┬───────────┐\n",
       "│ Country ┆ Age  ┆ Salary ┆ Purchased │\n",
       "│ ---     ┆ ---  ┆ ---    ┆ ---       │\n",
       "│ str     ┆ i64  ┆ i64    ┆ str       │\n",
       "╞═════════╪══════╪════════╪═══════════╡\n",
       "│ France  ┆ 44   ┆ 72000  ┆ No        │\n",
       "│ Spain   ┆ 27   ┆ 48000  ┆ Yes       │\n",
       "│ Germany ┆ 30   ┆ 54000  ┆ No        │\n",
       "│ Spain   ┆ 38   ┆ 61000  ┆ No        │\n",
       "│ Germany ┆ 40   ┆ null   ┆ Yes       │\n",
       "│ France  ┆ 35   ┆ 58000  ┆ Yes       │\n",
       "│ Spain   ┆ null ┆ 52000  ┆ No        │\n",
       "│ France  ┆ 48   ┆ 79000  ┆ Yes       │\n",
       "│ Germany ┆ 50   ┆ 83000  ┆ No        │\n",
       "│ France  ┆ 37   ┆ 67000  ┆ Yes       │\n",
       "└─────────┴──────┴────────┴───────────┘"
      ],
      "text/html": [
       "<div><style>\n",
       ".dataframe > thead > tr,\n",
       ".dataframe > tbody > tr {\n",
       "  text-align: right;\n",
       "  white-space: pre-wrap;\n",
       "}\n",
       "</style>\n",
       "<small>shape: (10, 4)</small><table border=\"1\" class=\"dataframe\"><thead><tr><th>Country</th><th>Age</th><th>Salary</th><th>Purchased</th></tr><tr><td>str</td><td>i64</td><td>i64</td><td>str</td></tr></thead><tbody><tr><td>&quot;France&quot;</td><td>44</td><td>72000</td><td>&quot;No&quot;</td></tr><tr><td>&quot;Spain&quot;</td><td>27</td><td>48000</td><td>&quot;Yes&quot;</td></tr><tr><td>&quot;Germany&quot;</td><td>30</td><td>54000</td><td>&quot;No&quot;</td></tr><tr><td>&quot;Spain&quot;</td><td>38</td><td>61000</td><td>&quot;No&quot;</td></tr><tr><td>&quot;Germany&quot;</td><td>40</td><td>null</td><td>&quot;Yes&quot;</td></tr><tr><td>&quot;France&quot;</td><td>35</td><td>58000</td><td>&quot;Yes&quot;</td></tr><tr><td>&quot;Spain&quot;</td><td>null</td><td>52000</td><td>&quot;No&quot;</td></tr><tr><td>&quot;France&quot;</td><td>48</td><td>79000</td><td>&quot;Yes&quot;</td></tr><tr><td>&quot;Germany&quot;</td><td>50</td><td>83000</td><td>&quot;No&quot;</td></tr><tr><td>&quot;France&quot;</td><td>37</td><td>67000</td><td>&quot;Yes&quot;</td></tr></tbody></table></div>"
      ]
     },
     "execution_count": 268,
     "metadata": {},
     "output_type": "execute_result"
    }
   ],
   "execution_count": 268
  },
  {
   "metadata": {
    "ExecuteTime": {
     "end_time": "2024-12-22T18:24:05.816479Z",
     "start_time": "2024-12-22T18:24:05.814176Z"
    }
   },
   "cell_type": "code",
   "source": [
    "# age_average = dataset.select(\n",
    "#     pl.col('Age').mean().round(0).cast(pl.UInt8)\n",
    "# )\n",
    "# age_average"
   ],
   "id": "4e2179cef633fa76",
   "outputs": [],
   "execution_count": 269
  },
  {
   "metadata": {
    "ExecuteTime": {
     "end_time": "2024-12-22T18:24:05.852566Z",
     "start_time": "2024-12-22T18:24:05.850201Z"
    }
   },
   "cell_type": "code",
   "source": [
    "# salary_average = dataset.select(\n",
    "#     pl.col('Salary').mean().round(0).cast(pl.UInt16)\n",
    "# )\n",
    "# salary_average"
   ],
   "id": "126645d67b305f41",
   "outputs": [],
   "execution_count": 270
  },
  {
   "metadata": {
    "ExecuteTime": {
     "end_time": "2024-12-22T18:24:05.919458Z",
     "start_time": "2024-12-22T18:24:05.916658Z"
    }
   },
   "cell_type": "code",
   "source": [
    "# dataset = dataset.with_columns(\n",
    "#     pl.col('Age').fill_null(age_average),\n",
    "#     pl.col('Salary').fill_null(salary_average),\n",
    "# )"
   ],
   "id": "29209dd36d87de8b",
   "outputs": [],
   "execution_count": 271
  },
  {
   "metadata": {
    "ExecuteTime": {
     "end_time": "2024-12-22T18:24:05.967847Z",
     "start_time": "2024-12-22T18:24:05.964329Z"
    }
   },
   "cell_type": "code",
   "source": "X = dataset.select(cs.exclude('Purchased'))",
   "id": "eef584b2883dd9f9",
   "outputs": [],
   "execution_count": 272
  },
  {
   "metadata": {
    "ExecuteTime": {
     "end_time": "2024-12-22T18:24:06.028921Z",
     "start_time": "2024-12-22T18:24:06.026273Z"
    }
   },
   "cell_type": "code",
   "source": "y = dataset.select('Purchased')",
   "id": "f29b9468c00db23b",
   "outputs": [],
   "execution_count": 273
  },
  {
   "metadata": {
    "ExecuteTime": {
     "end_time": "2024-12-22T18:24:06.060377Z",
     "start_time": "2024-12-22T18:24:06.057288Z"
    }
   },
   "cell_type": "code",
   "source": "from sklearn.impute import SimpleImputer",
   "id": "1d7de68b4c1ef75f",
   "outputs": [],
   "execution_count": 274
  },
  {
   "metadata": {
    "ExecuteTime": {
     "end_time": "2024-12-22T18:24:06.104537Z",
     "start_time": "2024-12-22T18:24:06.101503Z"
    }
   },
   "cell_type": "code",
   "source": "imputer = SimpleImputer(missing_values=np.nan, strategy='mean')",
   "id": "3b9aad9c1d3fcb9b",
   "outputs": [],
   "execution_count": 275
  },
  {
   "metadata": {
    "ExecuteTime": {
     "end_time": "2024-12-22T18:24:06.136600Z",
     "start_time": "2024-12-22T18:24:06.133278Z"
    }
   },
   "cell_type": "code",
   "source": [
    "numeric_data = X.select(cs.numeric())\n",
    "non_numeric_data = X.select(cs.exclude(cs.numeric()))"
   ],
   "id": "bc6b3da58469d87f",
   "outputs": [],
   "execution_count": 276
  },
  {
   "metadata": {
    "ExecuteTime": {
     "end_time": "2024-12-22T18:24:06.169687Z",
     "start_time": "2024-12-22T18:24:06.163850Z"
    }
   },
   "cell_type": "code",
   "source": "imputer.fit(numeric_data)",
   "id": "9d38df2dc56ee4f6",
   "outputs": [
    {
     "data": {
      "text/plain": [
       "SimpleImputer()"
      ],
      "text/html": [
       "<style>#sk-container-id-12 {\n",
       "  /* Definition of color scheme common for light and dark mode */\n",
       "  --sklearn-color-text: #000;\n",
       "  --sklearn-color-text-muted: #666;\n",
       "  --sklearn-color-line: gray;\n",
       "  /* Definition of color scheme for unfitted estimators */\n",
       "  --sklearn-color-unfitted-level-0: #fff5e6;\n",
       "  --sklearn-color-unfitted-level-1: #f6e4d2;\n",
       "  --sklearn-color-unfitted-level-2: #ffe0b3;\n",
       "  --sklearn-color-unfitted-level-3: chocolate;\n",
       "  /* Definition of color scheme for fitted estimators */\n",
       "  --sklearn-color-fitted-level-0: #f0f8ff;\n",
       "  --sklearn-color-fitted-level-1: #d4ebff;\n",
       "  --sklearn-color-fitted-level-2: #b3dbfd;\n",
       "  --sklearn-color-fitted-level-3: cornflowerblue;\n",
       "\n",
       "  /* Specific color for light theme */\n",
       "  --sklearn-color-text-on-default-background: var(--sg-text-color, var(--theme-code-foreground, var(--jp-content-font-color1, black)));\n",
       "  --sklearn-color-background: var(--sg-background-color, var(--theme-background, var(--jp-layout-color0, white)));\n",
       "  --sklearn-color-border-box: var(--sg-text-color, var(--theme-code-foreground, var(--jp-content-font-color1, black)));\n",
       "  --sklearn-color-icon: #696969;\n",
       "\n",
       "  @media (prefers-color-scheme: dark) {\n",
       "    /* Redefinition of color scheme for dark theme */\n",
       "    --sklearn-color-text-on-default-background: var(--sg-text-color, var(--theme-code-foreground, var(--jp-content-font-color1, white)));\n",
       "    --sklearn-color-background: var(--sg-background-color, var(--theme-background, var(--jp-layout-color0, #111)));\n",
       "    --sklearn-color-border-box: var(--sg-text-color, var(--theme-code-foreground, var(--jp-content-font-color1, white)));\n",
       "    --sklearn-color-icon: #878787;\n",
       "  }\n",
       "}\n",
       "\n",
       "#sk-container-id-12 {\n",
       "  color: var(--sklearn-color-text);\n",
       "}\n",
       "\n",
       "#sk-container-id-12 pre {\n",
       "  padding: 0;\n",
       "}\n",
       "\n",
       "#sk-container-id-12 input.sk-hidden--visually {\n",
       "  border: 0;\n",
       "  clip: rect(1px 1px 1px 1px);\n",
       "  clip: rect(1px, 1px, 1px, 1px);\n",
       "  height: 1px;\n",
       "  margin: -1px;\n",
       "  overflow: hidden;\n",
       "  padding: 0;\n",
       "  position: absolute;\n",
       "  width: 1px;\n",
       "}\n",
       "\n",
       "#sk-container-id-12 div.sk-dashed-wrapped {\n",
       "  border: 1px dashed var(--sklearn-color-line);\n",
       "  margin: 0 0.4em 0.5em 0.4em;\n",
       "  box-sizing: border-box;\n",
       "  padding-bottom: 0.4em;\n",
       "  background-color: var(--sklearn-color-background);\n",
       "}\n",
       "\n",
       "#sk-container-id-12 div.sk-container {\n",
       "  /* jupyter's `normalize.less` sets `[hidden] { display: none; }`\n",
       "     but bootstrap.min.css set `[hidden] { display: none !important; }`\n",
       "     so we also need the `!important` here to be able to override the\n",
       "     default hidden behavior on the sphinx rendered scikit-learn.org.\n",
       "     See: https://github.com/scikit-learn/scikit-learn/issues/21755 */\n",
       "  display: inline-block !important;\n",
       "  position: relative;\n",
       "}\n",
       "\n",
       "#sk-container-id-12 div.sk-text-repr-fallback {\n",
       "  display: none;\n",
       "}\n",
       "\n",
       "div.sk-parallel-item,\n",
       "div.sk-serial,\n",
       "div.sk-item {\n",
       "  /* draw centered vertical line to link estimators */\n",
       "  background-image: linear-gradient(var(--sklearn-color-text-on-default-background), var(--sklearn-color-text-on-default-background));\n",
       "  background-size: 2px 100%;\n",
       "  background-repeat: no-repeat;\n",
       "  background-position: center center;\n",
       "}\n",
       "\n",
       "/* Parallel-specific style estimator block */\n",
       "\n",
       "#sk-container-id-12 div.sk-parallel-item::after {\n",
       "  content: \"\";\n",
       "  width: 100%;\n",
       "  border-bottom: 2px solid var(--sklearn-color-text-on-default-background);\n",
       "  flex-grow: 1;\n",
       "}\n",
       "\n",
       "#sk-container-id-12 div.sk-parallel {\n",
       "  display: flex;\n",
       "  align-items: stretch;\n",
       "  justify-content: center;\n",
       "  background-color: var(--sklearn-color-background);\n",
       "  position: relative;\n",
       "}\n",
       "\n",
       "#sk-container-id-12 div.sk-parallel-item {\n",
       "  display: flex;\n",
       "  flex-direction: column;\n",
       "}\n",
       "\n",
       "#sk-container-id-12 div.sk-parallel-item:first-child::after {\n",
       "  align-self: flex-end;\n",
       "  width: 50%;\n",
       "}\n",
       "\n",
       "#sk-container-id-12 div.sk-parallel-item:last-child::after {\n",
       "  align-self: flex-start;\n",
       "  width: 50%;\n",
       "}\n",
       "\n",
       "#sk-container-id-12 div.sk-parallel-item:only-child::after {\n",
       "  width: 0;\n",
       "}\n",
       "\n",
       "/* Serial-specific style estimator block */\n",
       "\n",
       "#sk-container-id-12 div.sk-serial {\n",
       "  display: flex;\n",
       "  flex-direction: column;\n",
       "  align-items: center;\n",
       "  background-color: var(--sklearn-color-background);\n",
       "  padding-right: 1em;\n",
       "  padding-left: 1em;\n",
       "}\n",
       "\n",
       "\n",
       "/* Toggleable style: style used for estimator/Pipeline/ColumnTransformer box that is\n",
       "clickable and can be expanded/collapsed.\n",
       "- Pipeline and ColumnTransformer use this feature and define the default style\n",
       "- Estimators will overwrite some part of the style using the `sk-estimator` class\n",
       "*/\n",
       "\n",
       "/* Pipeline and ColumnTransformer style (default) */\n",
       "\n",
       "#sk-container-id-12 div.sk-toggleable {\n",
       "  /* Default theme specific background. It is overwritten whether we have a\n",
       "  specific estimator or a Pipeline/ColumnTransformer */\n",
       "  background-color: var(--sklearn-color-background);\n",
       "}\n",
       "\n",
       "/* Toggleable label */\n",
       "#sk-container-id-12 label.sk-toggleable__label {\n",
       "  cursor: pointer;\n",
       "  display: flex;\n",
       "  width: 100%;\n",
       "  margin-bottom: 0;\n",
       "  padding: 0.5em;\n",
       "  box-sizing: border-box;\n",
       "  text-align: center;\n",
       "  align-items: start;\n",
       "  justify-content: space-between;\n",
       "  gap: 0.5em;\n",
       "}\n",
       "\n",
       "#sk-container-id-12 label.sk-toggleable__label .caption {\n",
       "  font-size: 0.6rem;\n",
       "  font-weight: lighter;\n",
       "  color: var(--sklearn-color-text-muted);\n",
       "}\n",
       "\n",
       "#sk-container-id-12 label.sk-toggleable__label-arrow:before {\n",
       "  /* Arrow on the left of the label */\n",
       "  content: \"▸\";\n",
       "  float: left;\n",
       "  margin-right: 0.25em;\n",
       "  color: var(--sklearn-color-icon);\n",
       "}\n",
       "\n",
       "#sk-container-id-12 label.sk-toggleable__label-arrow:hover:before {\n",
       "  color: var(--sklearn-color-text);\n",
       "}\n",
       "\n",
       "/* Toggleable content - dropdown */\n",
       "\n",
       "#sk-container-id-12 div.sk-toggleable__content {\n",
       "  max-height: 0;\n",
       "  max-width: 0;\n",
       "  overflow: hidden;\n",
       "  text-align: left;\n",
       "  /* unfitted */\n",
       "  background-color: var(--sklearn-color-unfitted-level-0);\n",
       "}\n",
       "\n",
       "#sk-container-id-12 div.sk-toggleable__content.fitted {\n",
       "  /* fitted */\n",
       "  background-color: var(--sklearn-color-fitted-level-0);\n",
       "}\n",
       "\n",
       "#sk-container-id-12 div.sk-toggleable__content pre {\n",
       "  margin: 0.2em;\n",
       "  border-radius: 0.25em;\n",
       "  color: var(--sklearn-color-text);\n",
       "  /* unfitted */\n",
       "  background-color: var(--sklearn-color-unfitted-level-0);\n",
       "}\n",
       "\n",
       "#sk-container-id-12 div.sk-toggleable__content.fitted pre {\n",
       "  /* unfitted */\n",
       "  background-color: var(--sklearn-color-fitted-level-0);\n",
       "}\n",
       "\n",
       "#sk-container-id-12 input.sk-toggleable__control:checked~div.sk-toggleable__content {\n",
       "  /* Expand drop-down */\n",
       "  max-height: 200px;\n",
       "  max-width: 100%;\n",
       "  overflow: auto;\n",
       "}\n",
       "\n",
       "#sk-container-id-12 input.sk-toggleable__control:checked~label.sk-toggleable__label-arrow:before {\n",
       "  content: \"▾\";\n",
       "}\n",
       "\n",
       "/* Pipeline/ColumnTransformer-specific style */\n",
       "\n",
       "#sk-container-id-12 div.sk-label input.sk-toggleable__control:checked~label.sk-toggleable__label {\n",
       "  color: var(--sklearn-color-text);\n",
       "  background-color: var(--sklearn-color-unfitted-level-2);\n",
       "}\n",
       "\n",
       "#sk-container-id-12 div.sk-label.fitted input.sk-toggleable__control:checked~label.sk-toggleable__label {\n",
       "  background-color: var(--sklearn-color-fitted-level-2);\n",
       "}\n",
       "\n",
       "/* Estimator-specific style */\n",
       "\n",
       "/* Colorize estimator box */\n",
       "#sk-container-id-12 div.sk-estimator input.sk-toggleable__control:checked~label.sk-toggleable__label {\n",
       "  /* unfitted */\n",
       "  background-color: var(--sklearn-color-unfitted-level-2);\n",
       "}\n",
       "\n",
       "#sk-container-id-12 div.sk-estimator.fitted input.sk-toggleable__control:checked~label.sk-toggleable__label {\n",
       "  /* fitted */\n",
       "  background-color: var(--sklearn-color-fitted-level-2);\n",
       "}\n",
       "\n",
       "#sk-container-id-12 div.sk-label label.sk-toggleable__label,\n",
       "#sk-container-id-12 div.sk-label label {\n",
       "  /* The background is the default theme color */\n",
       "  color: var(--sklearn-color-text-on-default-background);\n",
       "}\n",
       "\n",
       "/* On hover, darken the color of the background */\n",
       "#sk-container-id-12 div.sk-label:hover label.sk-toggleable__label {\n",
       "  color: var(--sklearn-color-text);\n",
       "  background-color: var(--sklearn-color-unfitted-level-2);\n",
       "}\n",
       "\n",
       "/* Label box, darken color on hover, fitted */\n",
       "#sk-container-id-12 div.sk-label.fitted:hover label.sk-toggleable__label.fitted {\n",
       "  color: var(--sklearn-color-text);\n",
       "  background-color: var(--sklearn-color-fitted-level-2);\n",
       "}\n",
       "\n",
       "/* Estimator label */\n",
       "\n",
       "#sk-container-id-12 div.sk-label label {\n",
       "  font-family: monospace;\n",
       "  font-weight: bold;\n",
       "  display: inline-block;\n",
       "  line-height: 1.2em;\n",
       "}\n",
       "\n",
       "#sk-container-id-12 div.sk-label-container {\n",
       "  text-align: center;\n",
       "}\n",
       "\n",
       "/* Estimator-specific */\n",
       "#sk-container-id-12 div.sk-estimator {\n",
       "  font-family: monospace;\n",
       "  border: 1px dotted var(--sklearn-color-border-box);\n",
       "  border-radius: 0.25em;\n",
       "  box-sizing: border-box;\n",
       "  margin-bottom: 0.5em;\n",
       "  /* unfitted */\n",
       "  background-color: var(--sklearn-color-unfitted-level-0);\n",
       "}\n",
       "\n",
       "#sk-container-id-12 div.sk-estimator.fitted {\n",
       "  /* fitted */\n",
       "  background-color: var(--sklearn-color-fitted-level-0);\n",
       "}\n",
       "\n",
       "/* on hover */\n",
       "#sk-container-id-12 div.sk-estimator:hover {\n",
       "  /* unfitted */\n",
       "  background-color: var(--sklearn-color-unfitted-level-2);\n",
       "}\n",
       "\n",
       "#sk-container-id-12 div.sk-estimator.fitted:hover {\n",
       "  /* fitted */\n",
       "  background-color: var(--sklearn-color-fitted-level-2);\n",
       "}\n",
       "\n",
       "/* Specification for estimator info (e.g. \"i\" and \"?\") */\n",
       "\n",
       "/* Common style for \"i\" and \"?\" */\n",
       "\n",
       ".sk-estimator-doc-link,\n",
       "a:link.sk-estimator-doc-link,\n",
       "a:visited.sk-estimator-doc-link {\n",
       "  float: right;\n",
       "  font-size: smaller;\n",
       "  line-height: 1em;\n",
       "  font-family: monospace;\n",
       "  background-color: var(--sklearn-color-background);\n",
       "  border-radius: 1em;\n",
       "  height: 1em;\n",
       "  width: 1em;\n",
       "  text-decoration: none !important;\n",
       "  margin-left: 0.5em;\n",
       "  text-align: center;\n",
       "  /* unfitted */\n",
       "  border: var(--sklearn-color-unfitted-level-1) 1pt solid;\n",
       "  color: var(--sklearn-color-unfitted-level-1);\n",
       "}\n",
       "\n",
       ".sk-estimator-doc-link.fitted,\n",
       "a:link.sk-estimator-doc-link.fitted,\n",
       "a:visited.sk-estimator-doc-link.fitted {\n",
       "  /* fitted */\n",
       "  border: var(--sklearn-color-fitted-level-1) 1pt solid;\n",
       "  color: var(--sklearn-color-fitted-level-1);\n",
       "}\n",
       "\n",
       "/* On hover */\n",
       "div.sk-estimator:hover .sk-estimator-doc-link:hover,\n",
       ".sk-estimator-doc-link:hover,\n",
       "div.sk-label-container:hover .sk-estimator-doc-link:hover,\n",
       ".sk-estimator-doc-link:hover {\n",
       "  /* unfitted */\n",
       "  background-color: var(--sklearn-color-unfitted-level-3);\n",
       "  color: var(--sklearn-color-background);\n",
       "  text-decoration: none;\n",
       "}\n",
       "\n",
       "div.sk-estimator.fitted:hover .sk-estimator-doc-link.fitted:hover,\n",
       ".sk-estimator-doc-link.fitted:hover,\n",
       "div.sk-label-container:hover .sk-estimator-doc-link.fitted:hover,\n",
       ".sk-estimator-doc-link.fitted:hover {\n",
       "  /* fitted */\n",
       "  background-color: var(--sklearn-color-fitted-level-3);\n",
       "  color: var(--sklearn-color-background);\n",
       "  text-decoration: none;\n",
       "}\n",
       "\n",
       "/* Span, style for the box shown on hovering the info icon */\n",
       ".sk-estimator-doc-link span {\n",
       "  display: none;\n",
       "  z-index: 9999;\n",
       "  position: relative;\n",
       "  font-weight: normal;\n",
       "  right: .2ex;\n",
       "  padding: .5ex;\n",
       "  margin: .5ex;\n",
       "  width: min-content;\n",
       "  min-width: 20ex;\n",
       "  max-width: 50ex;\n",
       "  color: var(--sklearn-color-text);\n",
       "  box-shadow: 2pt 2pt 4pt #999;\n",
       "  /* unfitted */\n",
       "  background: var(--sklearn-color-unfitted-level-0);\n",
       "  border: .5pt solid var(--sklearn-color-unfitted-level-3);\n",
       "}\n",
       "\n",
       ".sk-estimator-doc-link.fitted span {\n",
       "  /* fitted */\n",
       "  background: var(--sklearn-color-fitted-level-0);\n",
       "  border: var(--sklearn-color-fitted-level-3);\n",
       "}\n",
       "\n",
       ".sk-estimator-doc-link:hover span {\n",
       "  display: block;\n",
       "}\n",
       "\n",
       "/* \"?\"-specific style due to the `<a>` HTML tag */\n",
       "\n",
       "#sk-container-id-12 a.estimator_doc_link {\n",
       "  float: right;\n",
       "  font-size: 1rem;\n",
       "  line-height: 1em;\n",
       "  font-family: monospace;\n",
       "  background-color: var(--sklearn-color-background);\n",
       "  border-radius: 1rem;\n",
       "  height: 1rem;\n",
       "  width: 1rem;\n",
       "  text-decoration: none;\n",
       "  /* unfitted */\n",
       "  color: var(--sklearn-color-unfitted-level-1);\n",
       "  border: var(--sklearn-color-unfitted-level-1) 1pt solid;\n",
       "}\n",
       "\n",
       "#sk-container-id-12 a.estimator_doc_link.fitted {\n",
       "  /* fitted */\n",
       "  border: var(--sklearn-color-fitted-level-1) 1pt solid;\n",
       "  color: var(--sklearn-color-fitted-level-1);\n",
       "}\n",
       "\n",
       "/* On hover */\n",
       "#sk-container-id-12 a.estimator_doc_link:hover {\n",
       "  /* unfitted */\n",
       "  background-color: var(--sklearn-color-unfitted-level-3);\n",
       "  color: var(--sklearn-color-background);\n",
       "  text-decoration: none;\n",
       "}\n",
       "\n",
       "#sk-container-id-12 a.estimator_doc_link.fitted:hover {\n",
       "  /* fitted */\n",
       "  background-color: var(--sklearn-color-fitted-level-3);\n",
       "}\n",
       "</style><div id=\"sk-container-id-12\" class=\"sk-top-container\"><div class=\"sk-text-repr-fallback\"><pre>SimpleImputer()</pre><b>In a Jupyter environment, please rerun this cell to show the HTML representation or trust the notebook. <br />On GitHub, the HTML representation is unable to render, please try loading this page with nbviewer.org.</b></div><div class=\"sk-container\" hidden><div class=\"sk-item\"><div class=\"sk-estimator fitted sk-toggleable\"><input class=\"sk-toggleable__control sk-hidden--visually\" id=\"sk-estimator-id-12\" type=\"checkbox\" checked><label for=\"sk-estimator-id-12\" class=\"sk-toggleable__label fitted sk-toggleable__label-arrow\"><div><div>SimpleImputer</div></div><div><a class=\"sk-estimator-doc-link fitted\" rel=\"noreferrer\" target=\"_blank\" href=\"https://scikit-learn.org/1.6/modules/generated/sklearn.impute.SimpleImputer.html\">?<span>Documentation for SimpleImputer</span></a><span class=\"sk-estimator-doc-link fitted\">i<span>Fitted</span></span></div></label><div class=\"sk-toggleable__content fitted\"><pre>SimpleImputer()</pre></div> </div></div></div></div>"
      ]
     },
     "execution_count": 277,
     "metadata": {},
     "output_type": "execute_result"
    }
   ],
   "execution_count": 277
  },
  {
   "metadata": {
    "ExecuteTime": {
     "end_time": "2024-12-22T18:24:06.253202Z",
     "start_time": "2024-12-22T18:24:06.249268Z"
    }
   },
   "cell_type": "code",
   "source": "imputed_data = imputer.transform(numeric_data)",
   "id": "e81364fa9b0ad3cb",
   "outputs": [],
   "execution_count": 278
  },
  {
   "metadata": {
    "ExecuteTime": {
     "end_time": "2024-12-22T18:24:06.287474Z",
     "start_time": "2024-12-22T18:24:06.284548Z"
    }
   },
   "cell_type": "code",
   "source": "imputed_data = pl.DataFrame(imputed_data, schema=numeric_data.schema)",
   "id": "5a21b312ced15f20",
   "outputs": [],
   "execution_count": 279
  },
  {
   "metadata": {
    "ExecuteTime": {
     "end_time": "2024-12-22T18:24:06.315778Z",
     "start_time": "2024-12-22T18:24:06.313208Z"
    }
   },
   "cell_type": "code",
   "source": "X = pl.concat([non_numeric_data, imputed_data], how='horizontal')",
   "id": "ce2f40202bccf279",
   "outputs": [],
   "execution_count": 280
  },
  {
   "metadata": {
    "ExecuteTime": {
     "end_time": "2024-12-22T18:24:06.350112Z",
     "start_time": "2024-12-22T18:24:06.347157Z"
    }
   },
   "cell_type": "code",
   "source": [
    "from sklearn.compose import ColumnTransformer\n",
    "from sklearn.preprocessing import OneHotEncoder"
   ],
   "id": "d272da28080be84c",
   "outputs": [],
   "execution_count": 281
  },
  {
   "metadata": {
    "ExecuteTime": {
     "end_time": "2024-12-22T18:24:06.384171Z",
     "start_time": "2024-12-22T18:24:06.381172Z"
    }
   },
   "cell_type": "code",
   "source": [
    "ct = ColumnTransformer(\n",
    "    transformers=[('encoder', OneHotEncoder(), [0])],\n",
    "    remainder='passthrough',\n",
    ")"
   ],
   "id": "586c9dfd4c3e705d",
   "outputs": [],
   "execution_count": 282
  },
  {
   "metadata": {
    "ExecuteTime": {
     "end_time": "2024-12-22T18:24:06.411572Z",
     "start_time": "2024-12-22T18:24:06.404933Z"
    }
   },
   "cell_type": "code",
   "source": "X = np.array(ct.fit_transform(X.to_pandas()))",
   "id": "338790858d8829e1",
   "outputs": [],
   "execution_count": 283
  },
  {
   "metadata": {
    "ExecuteTime": {
     "end_time": "2024-12-22T18:24:06.423993Z",
     "start_time": "2024-12-22T18:24:06.419808Z"
    }
   },
   "cell_type": "code",
   "source": "X",
   "id": "8bbc7c1e58ba6b28",
   "outputs": [
    {
     "data": {
      "text/plain": [
       "array([[1.0000e+00, 0.0000e+00, 0.0000e+00, 4.4000e+01, 7.2000e+04],\n",
       "       [0.0000e+00, 0.0000e+00, 1.0000e+00, 2.7000e+01, 4.8000e+04],\n",
       "       [0.0000e+00, 1.0000e+00, 0.0000e+00, 3.0000e+01, 5.4000e+04],\n",
       "       [0.0000e+00, 0.0000e+00, 1.0000e+00, 3.8000e+01, 6.1000e+04],\n",
       "       [0.0000e+00, 1.0000e+00, 0.0000e+00, 4.0000e+01, 6.3777e+04],\n",
       "       [1.0000e+00, 0.0000e+00, 0.0000e+00, 3.5000e+01, 5.8000e+04],\n",
       "       [0.0000e+00, 0.0000e+00, 1.0000e+00, 3.8000e+01, 5.2000e+04],\n",
       "       [1.0000e+00, 0.0000e+00, 0.0000e+00, 4.8000e+01, 7.9000e+04],\n",
       "       [0.0000e+00, 1.0000e+00, 0.0000e+00, 5.0000e+01, 8.3000e+04],\n",
       "       [1.0000e+00, 0.0000e+00, 0.0000e+00, 3.7000e+01, 6.7000e+04]])"
      ]
     },
     "execution_count": 284,
     "metadata": {},
     "output_type": "execute_result"
    }
   ],
   "execution_count": 284
  },
  {
   "metadata": {
    "ExecuteTime": {
     "end_time": "2024-12-22T18:24:06.474198Z",
     "start_time": "2024-12-22T18:24:06.471324Z"
    }
   },
   "cell_type": "code",
   "source": "from sklearn.preprocessing import LabelEncoder",
   "id": "4dcf6895586f61ea",
   "outputs": [],
   "execution_count": 285
  },
  {
   "metadata": {
    "ExecuteTime": {
     "end_time": "2024-12-22T18:24:06.526470Z",
     "start_time": "2024-12-22T18:24:06.523544Z"
    }
   },
   "cell_type": "code",
   "source": "le = LabelEncoder()",
   "id": "3cfda77f0b0916d7",
   "outputs": [],
   "execution_count": 286
  },
  {
   "metadata": {
    "ExecuteTime": {
     "end_time": "2024-12-22T18:24:06.596654Z",
     "start_time": "2024-12-22T18:24:06.593884Z"
    }
   },
   "cell_type": "code",
   "source": "y = y.to_numpy().ravel()",
   "id": "fde67726f0cb0b7b",
   "outputs": [],
   "execution_count": 287
  },
  {
   "metadata": {
    "ExecuteTime": {
     "end_time": "2024-12-22T18:24:06.626858Z",
     "start_time": "2024-12-22T18:24:06.622956Z"
    }
   },
   "cell_type": "code",
   "source": "y = le.fit_transform(y)",
   "id": "d763a445669f4d39",
   "outputs": [],
   "execution_count": 288
  },
  {
   "metadata": {
    "ExecuteTime": {
     "end_time": "2024-12-22T18:24:06.657819Z",
     "start_time": "2024-12-22T18:24:06.654859Z"
    }
   },
   "cell_type": "code",
   "source": "from sklearn.model_selection import train_test_split",
   "id": "44bb12295dd93371",
   "outputs": [],
   "execution_count": 289
  },
  {
   "metadata": {
    "ExecuteTime": {
     "end_time": "2024-12-22T18:24:06.672119Z",
     "start_time": "2024-12-22T18:24:06.668747Z"
    }
   },
   "cell_type": "code",
   "source": "X_train, X_test, y_train , y_test = train_test_split(X, y, test_size=0.2, random_state=1)",
   "id": "7743edc54d872dfd",
   "outputs": [],
   "execution_count": 290
  },
  {
   "metadata": {
    "ExecuteTime": {
     "end_time": "2024-12-22T18:24:06.686689Z",
     "start_time": "2024-12-22T18:24:06.683746Z"
    }
   },
   "cell_type": "code",
   "source": "from sklearn.preprocessing import StandardScaler",
   "id": "1ae6ce0242bfd11a",
   "outputs": [],
   "execution_count": 291
  },
  {
   "metadata": {
    "ExecuteTime": {
     "end_time": "2024-12-22T18:24:06.700686Z",
     "start_time": "2024-12-22T18:24:06.698148Z"
    }
   },
   "cell_type": "code",
   "source": "scaler = StandardScaler()",
   "id": "4c09a4a70476a2cd",
   "outputs": [],
   "execution_count": 292
  },
  {
   "metadata": {
    "ExecuteTime": {
     "end_time": "2024-12-22T18:24:06.729634Z",
     "start_time": "2024-12-22T18:24:06.725819Z"
    }
   },
   "cell_type": "code",
   "source": "scaled_X_train = scaler.fit_transform(X_train)",
   "id": "11ef792d9e5006bf",
   "outputs": [],
   "execution_count": 293
  },
  {
   "metadata": {
    "ExecuteTime": {
     "end_time": "2024-12-22T18:24:06.756959Z",
     "start_time": "2024-12-22T18:24:06.754096Z"
    }
   },
   "cell_type": "code",
   "source": "scaled_X_test = scaler.transform(X_test)",
   "id": "2488fe89b29bf48e",
   "outputs": [],
   "execution_count": 294
  },
  {
   "metadata": {
    "ExecuteTime": {
     "end_time": "2024-12-22T18:24:30.108112Z",
     "start_time": "2024-12-22T18:24:30.103572Z"
    }
   },
   "cell_type": "code",
   "source": "scaled_X_train",
   "id": "3434646093c15971",
   "outputs": [
    {
     "data": {
      "text/plain": [
       "array([[-0.77459667, -0.57735027,  1.29099445, -0.28942984, -1.07811699],\n",
       "       [-0.77459667,  1.73205081, -0.77459667,  0.        , -0.07018988],\n",
       "       [ 1.29099445, -0.57735027, -0.77459667,  0.57885968,  0.63357038],\n",
       "       [-0.77459667, -0.57735027,  1.29099445, -0.28942984, -0.30785767],\n",
       "       [-0.77459667, -0.57735027,  1.29099445, -1.88129397, -1.42045447],\n",
       "       [ 1.29099445, -0.57735027, -0.77459667,  1.15771937,  1.23266096],\n",
       "       [-0.77459667,  1.73205081, -0.77459667,  1.44714921,  1.57499844],\n",
       "       [ 1.29099445, -0.57735027, -0.77459667, -0.72357461, -0.56461078]])"
      ]
     },
     "execution_count": 295,
     "metadata": {},
     "output_type": "execute_result"
    }
   ],
   "execution_count": 295
  },
  {
   "metadata": {
    "ExecuteTime": {
     "end_time": "2024-12-22T18:24:33.674587Z",
     "start_time": "2024-12-22T18:24:33.670397Z"
    }
   },
   "cell_type": "code",
   "source": "scaled_X_test",
   "id": "65a70d58af03335c",
   "outputs": [
    {
     "data": {
      "text/plain": [
       "array([[-0.77459667,  1.73205081, -0.77459667, -1.44714921, -0.90694825],\n",
       "       [ 1.29099445, -0.57735027, -0.77459667, -0.43414476,  0.20564854]])"
      ]
     },
     "execution_count": 296,
     "metadata": {},
     "output_type": "execute_result"
    }
   ],
   "execution_count": 296
  }
 ],
 "metadata": {
  "kernelspec": {
   "display_name": "Python 3",
   "language": "python",
   "name": "python3"
  },
  "language_info": {
   "codemirror_mode": {
    "name": "ipython",
    "version": 2
   },
   "file_extension": ".py",
   "mimetype": "text/x-python",
   "name": "python",
   "nbconvert_exporter": "python",
   "pygments_lexer": "ipython2",
   "version": "2.7.6"
  }
 },
 "nbformat": 4,
 "nbformat_minor": 5
}
